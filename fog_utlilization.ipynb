{
  "nbformat": 4,
  "nbformat_minor": 0,
  "metadata": {
    "colab": {
      "name": "Untitled29.ipynb",
      "provenance": [],
      "collapsed_sections": [
        "xrdo3FNOYJBQ",
        "MRz_xuL3gkbG",
        "cmdgEgykiY4v",
        "FSHJfZFMj4yJ"
      ]
    },
    "kernelspec": {
      "name": "python3",
      "display_name": "Python 3"
    },
    "language_info": {
      "name": "python"
    }
  },
  "cells": [
    {
      "cell_type": "code",
      "execution_count": 340,
      "metadata": {
        "id": "sr-XEN__XK21"
      },
      "outputs": [],
      "source": [
        "import pandas as pd\n",
        "import numpy as np\n",
        "import matplotlib.pyplot as plt\n",
        "import seaborn as sns\n",
        "import plotly.express as px\n",
        "import plotly.graph_objects as go\n",
        "import plotly.offline as pyo\n",
        "import plotly.figure_factory as ff\n",
        "from plotly import tools\n",
        "from plotly.subplots import make_subplots\n",
        "from plotly.offline import iplot\n",
        "import tensorflow as tf\n",
        "from tensorflow import keras\n",
        "import keras.models"
      ]
    },
    {
      "cell_type": "markdown",
      "source": [
        "## Uploading data"
      ],
      "metadata": {
        "id": "xrdo3FNOYJBQ"
      }
    },
    {
      "cell_type": "code",
      "source": [
        "w10_cpu=pd.read_csv('w_10_cpu_data.csv')\n",
        "w10_net=pd.read_csv('w_10_net_data.csv')\n",
        "w7_cpu=pd.read_csv('w_7_cpu_data.csv')\n",
        "w7_net=pd.read_csv('w_7_net_data.csv')"
      ],
      "metadata": {
        "id": "sl37FppVYDGB"
      },
      "execution_count": 341,
      "outputs": []
    },
    {
      "cell_type": "markdown",
      "source": [
        "## W_10_CPU_DATA"
      ],
      "metadata": {
        "id": "h861gQ2wf8aM"
      }
    },
    {
      "cell_type": "code",
      "source": [
        "w10_cpu.head()"
      ],
      "metadata": {
        "colab": {
          "base_uri": "https://localhost:8080/",
          "height": 206
        },
        "id": "jTLRrR5NY7Qq",
        "outputId": "aa850d72-bc9b-47f0-a9d8-8da6c95f2f82"
      },
      "execution_count": 342,
      "outputs": [
        {
          "output_type": "execute_result",
          "data": {
            "text/plain": [
              "           ts Processor_pct_DPC_Time Processor_pct_Privileged_Time  \\\n",
              "0  1554206309            0.078240397                   5.163866186   \n",
              "1  1554206319            0.078130243                   7.109852142   \n",
              "2  1554206329            0.233644366                   20.87223003   \n",
              "3  1554206339            0.313483401                   31.74019431   \n",
              "4  1554206349            0.703093958                   40.85757114   \n",
              "\n",
              "  Process_pct_Privileged_Time  Process_Thread_Count  \\\n",
              "0                 77.61447359                   789   \n",
              "1                 80.94293208                   787   \n",
              "2                 105.1399647                   788   \n",
              "3                 101.5686218                   786   \n",
              "4                 111.4013316                   800   \n",
              "\n",
              "  Processor_pct_Processor_time  \n",
              "0                   66.2001486  \n",
              "1                  66.24773489  \n",
              "2                  66.90038148  \n",
              "3                  79.54520811  \n",
              "4                  82.73513724  "
            ],
            "text/html": [
              "\n",
              "  <div id=\"df-7f8f9f22-3d04-4565-aa18-07a1ab9ff06b\">\n",
              "    <div class=\"colab-df-container\">\n",
              "      <div>\n",
              "<style scoped>\n",
              "    .dataframe tbody tr th:only-of-type {\n",
              "        vertical-align: middle;\n",
              "    }\n",
              "\n",
              "    .dataframe tbody tr th {\n",
              "        vertical-align: top;\n",
              "    }\n",
              "\n",
              "    .dataframe thead th {\n",
              "        text-align: right;\n",
              "    }\n",
              "</style>\n",
              "<table border=\"1\" class=\"dataframe\">\n",
              "  <thead>\n",
              "    <tr style=\"text-align: right;\">\n",
              "      <th></th>\n",
              "      <th>ts</th>\n",
              "      <th>Processor_pct_DPC_Time</th>\n",
              "      <th>Processor_pct_Privileged_Time</th>\n",
              "      <th>Process_pct_Privileged_Time</th>\n",
              "      <th>Process_Thread_Count</th>\n",
              "      <th>Processor_pct_Processor_time</th>\n",
              "    </tr>\n",
              "  </thead>\n",
              "  <tbody>\n",
              "    <tr>\n",
              "      <th>0</th>\n",
              "      <td>1554206309</td>\n",
              "      <td>0.078240397</td>\n",
              "      <td>5.163866186</td>\n",
              "      <td>77.61447359</td>\n",
              "      <td>789</td>\n",
              "      <td>66.2001486</td>\n",
              "    </tr>\n",
              "    <tr>\n",
              "      <th>1</th>\n",
              "      <td>1554206319</td>\n",
              "      <td>0.078130243</td>\n",
              "      <td>7.109852142</td>\n",
              "      <td>80.94293208</td>\n",
              "      <td>787</td>\n",
              "      <td>66.24773489</td>\n",
              "    </tr>\n",
              "    <tr>\n",
              "      <th>2</th>\n",
              "      <td>1554206329</td>\n",
              "      <td>0.233644366</td>\n",
              "      <td>20.87223003</td>\n",
              "      <td>105.1399647</td>\n",
              "      <td>788</td>\n",
              "      <td>66.90038148</td>\n",
              "    </tr>\n",
              "    <tr>\n",
              "      <th>3</th>\n",
              "      <td>1554206339</td>\n",
              "      <td>0.313483401</td>\n",
              "      <td>31.74019431</td>\n",
              "      <td>101.5686218</td>\n",
              "      <td>786</td>\n",
              "      <td>79.54520811</td>\n",
              "    </tr>\n",
              "    <tr>\n",
              "      <th>4</th>\n",
              "      <td>1554206349</td>\n",
              "      <td>0.703093958</td>\n",
              "      <td>40.85757114</td>\n",
              "      <td>111.4013316</td>\n",
              "      <td>800</td>\n",
              "      <td>82.73513724</td>\n",
              "    </tr>\n",
              "  </tbody>\n",
              "</table>\n",
              "</div>\n",
              "      <button class=\"colab-df-convert\" onclick=\"convertToInteractive('df-7f8f9f22-3d04-4565-aa18-07a1ab9ff06b')\"\n",
              "              title=\"Convert this dataframe to an interactive table.\"\n",
              "              style=\"display:none;\">\n",
              "        \n",
              "  <svg xmlns=\"http://www.w3.org/2000/svg\" height=\"24px\"viewBox=\"0 0 24 24\"\n",
              "       width=\"24px\">\n",
              "    <path d=\"M0 0h24v24H0V0z\" fill=\"none\"/>\n",
              "    <path d=\"M18.56 5.44l.94 2.06.94-2.06 2.06-.94-2.06-.94-.94-2.06-.94 2.06-2.06.94zm-11 1L8.5 8.5l.94-2.06 2.06-.94-2.06-.94L8.5 2.5l-.94 2.06-2.06.94zm10 10l.94 2.06.94-2.06 2.06-.94-2.06-.94-.94-2.06-.94 2.06-2.06.94z\"/><path d=\"M17.41 7.96l-1.37-1.37c-.4-.4-.92-.59-1.43-.59-.52 0-1.04.2-1.43.59L10.3 9.45l-7.72 7.72c-.78.78-.78 2.05 0 2.83L4 21.41c.39.39.9.59 1.41.59.51 0 1.02-.2 1.41-.59l7.78-7.78 2.81-2.81c.8-.78.8-2.07 0-2.86zM5.41 20L4 18.59l7.72-7.72 1.47 1.35L5.41 20z\"/>\n",
              "  </svg>\n",
              "      </button>\n",
              "      \n",
              "  <style>\n",
              "    .colab-df-container {\n",
              "      display:flex;\n",
              "      flex-wrap:wrap;\n",
              "      gap: 12px;\n",
              "    }\n",
              "\n",
              "    .colab-df-convert {\n",
              "      background-color: #E8F0FE;\n",
              "      border: none;\n",
              "      border-radius: 50%;\n",
              "      cursor: pointer;\n",
              "      display: none;\n",
              "      fill: #1967D2;\n",
              "      height: 32px;\n",
              "      padding: 0 0 0 0;\n",
              "      width: 32px;\n",
              "    }\n",
              "\n",
              "    .colab-df-convert:hover {\n",
              "      background-color: #E2EBFA;\n",
              "      box-shadow: 0px 1px 2px rgba(60, 64, 67, 0.3), 0px 1px 3px 1px rgba(60, 64, 67, 0.15);\n",
              "      fill: #174EA6;\n",
              "    }\n",
              "\n",
              "    [theme=dark] .colab-df-convert {\n",
              "      background-color: #3B4455;\n",
              "      fill: #D2E3FC;\n",
              "    }\n",
              "\n",
              "    [theme=dark] .colab-df-convert:hover {\n",
              "      background-color: #434B5C;\n",
              "      box-shadow: 0px 1px 3px 1px rgba(0, 0, 0, 0.15);\n",
              "      filter: drop-shadow(0px 1px 2px rgba(0, 0, 0, 0.3));\n",
              "      fill: #FFFFFF;\n",
              "    }\n",
              "  </style>\n",
              "\n",
              "      <script>\n",
              "        const buttonEl =\n",
              "          document.querySelector('#df-7f8f9f22-3d04-4565-aa18-07a1ab9ff06b button.colab-df-convert');\n",
              "        buttonEl.style.display =\n",
              "          google.colab.kernel.accessAllowed ? 'block' : 'none';\n",
              "\n",
              "        async function convertToInteractive(key) {\n",
              "          const element = document.querySelector('#df-7f8f9f22-3d04-4565-aa18-07a1ab9ff06b');\n",
              "          const dataTable =\n",
              "            await google.colab.kernel.invokeFunction('convertToInteractive',\n",
              "                                                     [key], {});\n",
              "          if (!dataTable) return;\n",
              "\n",
              "          const docLinkHtml = 'Like what you see? Visit the ' +\n",
              "            '<a target=\"_blank\" href=https://colab.research.google.com/notebooks/data_table.ipynb>data table notebook</a>'\n",
              "            + ' to learn more about interactive tables.';\n",
              "          element.innerHTML = '';\n",
              "          dataTable['output_type'] = 'display_data';\n",
              "          await google.colab.output.renderOutput(dataTable, element);\n",
              "          const docLink = document.createElement('div');\n",
              "          docLink.innerHTML = docLinkHtml;\n",
              "          element.appendChild(docLink);\n",
              "        }\n",
              "      </script>\n",
              "    </div>\n",
              "  </div>\n",
              "  "
            ]
          },
          "metadata": {},
          "execution_count": 342
        }
      ]
    },
    {
      "cell_type": "code",
      "source": [
        "w10_cpu.info()"
      ],
      "metadata": {
        "colab": {
          "base_uri": "https://localhost:8080/"
        },
        "id": "iHKOiIDfZYXM",
        "outputId": "05953c5d-a61c-4a98-ccfc-160eec4d6966"
      },
      "execution_count": 343,
      "outputs": [
        {
          "output_type": "stream",
          "name": "stdout",
          "text": [
            "<class 'pandas.core.frame.DataFrame'>\n",
            "RangeIndex: 24871 entries, 0 to 24870\n",
            "Data columns (total 6 columns):\n",
            " #   Column                         Non-Null Count  Dtype \n",
            "---  ------                         --------------  ----- \n",
            " 0   ts                             24871 non-null  int64 \n",
            " 1   Processor_pct_DPC_Time         24871 non-null  object\n",
            " 2   Processor_pct_Privileged_Time  24871 non-null  object\n",
            " 3   Process_pct_Privileged_Time    24871 non-null  object\n",
            " 4   Process_Thread_Count           24871 non-null  int64 \n",
            " 5   Processor_pct_Processor_time   24871 non-null  object\n",
            "dtypes: int64(2), object(4)\n",
            "memory usage: 1.1+ MB\n"
          ]
        }
      ]
    },
    {
      "cell_type": "code",
      "source": [
        "w10_cpu.describe()"
      ],
      "metadata": {
        "colab": {
          "base_uri": "https://localhost:8080/",
          "height": 300
        },
        "id": "vXgbS3pZZj4u",
        "outputId": "edc35531-e4a9-4685-bf47-5c653ed88eb3"
      },
      "execution_count": 344,
      "outputs": [
        {
          "output_type": "execute_result",
          "data": {
            "text/plain": [
              "                 ts  Process_Thread_Count\n",
              "count  2.487100e+04          24871.000000\n",
              "mean   1.554888e+09           1179.009811\n",
              "std    8.773454e+05            287.418078\n",
              "min    1.554192e+09            703.000000\n",
              "25%    1.554260e+09            978.000000\n",
              "50%    1.554322e+09           1033.000000\n",
              "75%    1.556048e+09           1510.000000\n",
              "max    1.556548e+09           2290.000000"
            ],
            "text/html": [
              "\n",
              "  <div id=\"df-2fa42c2c-4e1d-4086-8386-74be1d48636a\">\n",
              "    <div class=\"colab-df-container\">\n",
              "      <div>\n",
              "<style scoped>\n",
              "    .dataframe tbody tr th:only-of-type {\n",
              "        vertical-align: middle;\n",
              "    }\n",
              "\n",
              "    .dataframe tbody tr th {\n",
              "        vertical-align: top;\n",
              "    }\n",
              "\n",
              "    .dataframe thead th {\n",
              "        text-align: right;\n",
              "    }\n",
              "</style>\n",
              "<table border=\"1\" class=\"dataframe\">\n",
              "  <thead>\n",
              "    <tr style=\"text-align: right;\">\n",
              "      <th></th>\n",
              "      <th>ts</th>\n",
              "      <th>Process_Thread_Count</th>\n",
              "    </tr>\n",
              "  </thead>\n",
              "  <tbody>\n",
              "    <tr>\n",
              "      <th>count</th>\n",
              "      <td>2.487100e+04</td>\n",
              "      <td>24871.000000</td>\n",
              "    </tr>\n",
              "    <tr>\n",
              "      <th>mean</th>\n",
              "      <td>1.554888e+09</td>\n",
              "      <td>1179.009811</td>\n",
              "    </tr>\n",
              "    <tr>\n",
              "      <th>std</th>\n",
              "      <td>8.773454e+05</td>\n",
              "      <td>287.418078</td>\n",
              "    </tr>\n",
              "    <tr>\n",
              "      <th>min</th>\n",
              "      <td>1.554192e+09</td>\n",
              "      <td>703.000000</td>\n",
              "    </tr>\n",
              "    <tr>\n",
              "      <th>25%</th>\n",
              "      <td>1.554260e+09</td>\n",
              "      <td>978.000000</td>\n",
              "    </tr>\n",
              "    <tr>\n",
              "      <th>50%</th>\n",
              "      <td>1.554322e+09</td>\n",
              "      <td>1033.000000</td>\n",
              "    </tr>\n",
              "    <tr>\n",
              "      <th>75%</th>\n",
              "      <td>1.556048e+09</td>\n",
              "      <td>1510.000000</td>\n",
              "    </tr>\n",
              "    <tr>\n",
              "      <th>max</th>\n",
              "      <td>1.556548e+09</td>\n",
              "      <td>2290.000000</td>\n",
              "    </tr>\n",
              "  </tbody>\n",
              "</table>\n",
              "</div>\n",
              "      <button class=\"colab-df-convert\" onclick=\"convertToInteractive('df-2fa42c2c-4e1d-4086-8386-74be1d48636a')\"\n",
              "              title=\"Convert this dataframe to an interactive table.\"\n",
              "              style=\"display:none;\">\n",
              "        \n",
              "  <svg xmlns=\"http://www.w3.org/2000/svg\" height=\"24px\"viewBox=\"0 0 24 24\"\n",
              "       width=\"24px\">\n",
              "    <path d=\"M0 0h24v24H0V0z\" fill=\"none\"/>\n",
              "    <path d=\"M18.56 5.44l.94 2.06.94-2.06 2.06-.94-2.06-.94-.94-2.06-.94 2.06-2.06.94zm-11 1L8.5 8.5l.94-2.06 2.06-.94-2.06-.94L8.5 2.5l-.94 2.06-2.06.94zm10 10l.94 2.06.94-2.06 2.06-.94-2.06-.94-.94-2.06-.94 2.06-2.06.94z\"/><path d=\"M17.41 7.96l-1.37-1.37c-.4-.4-.92-.59-1.43-.59-.52 0-1.04.2-1.43.59L10.3 9.45l-7.72 7.72c-.78.78-.78 2.05 0 2.83L4 21.41c.39.39.9.59 1.41.59.51 0 1.02-.2 1.41-.59l7.78-7.78 2.81-2.81c.8-.78.8-2.07 0-2.86zM5.41 20L4 18.59l7.72-7.72 1.47 1.35L5.41 20z\"/>\n",
              "  </svg>\n",
              "      </button>\n",
              "      \n",
              "  <style>\n",
              "    .colab-df-container {\n",
              "      display:flex;\n",
              "      flex-wrap:wrap;\n",
              "      gap: 12px;\n",
              "    }\n",
              "\n",
              "    .colab-df-convert {\n",
              "      background-color: #E8F0FE;\n",
              "      border: none;\n",
              "      border-radius: 50%;\n",
              "      cursor: pointer;\n",
              "      display: none;\n",
              "      fill: #1967D2;\n",
              "      height: 32px;\n",
              "      padding: 0 0 0 0;\n",
              "      width: 32px;\n",
              "    }\n",
              "\n",
              "    .colab-df-convert:hover {\n",
              "      background-color: #E2EBFA;\n",
              "      box-shadow: 0px 1px 2px rgba(60, 64, 67, 0.3), 0px 1px 3px 1px rgba(60, 64, 67, 0.15);\n",
              "      fill: #174EA6;\n",
              "    }\n",
              "\n",
              "    [theme=dark] .colab-df-convert {\n",
              "      background-color: #3B4455;\n",
              "      fill: #D2E3FC;\n",
              "    }\n",
              "\n",
              "    [theme=dark] .colab-df-convert:hover {\n",
              "      background-color: #434B5C;\n",
              "      box-shadow: 0px 1px 3px 1px rgba(0, 0, 0, 0.15);\n",
              "      filter: drop-shadow(0px 1px 2px rgba(0, 0, 0, 0.3));\n",
              "      fill: #FFFFFF;\n",
              "    }\n",
              "  </style>\n",
              "\n",
              "      <script>\n",
              "        const buttonEl =\n",
              "          document.querySelector('#df-2fa42c2c-4e1d-4086-8386-74be1d48636a button.colab-df-convert');\n",
              "        buttonEl.style.display =\n",
              "          google.colab.kernel.accessAllowed ? 'block' : 'none';\n",
              "\n",
              "        async function convertToInteractive(key) {\n",
              "          const element = document.querySelector('#df-2fa42c2c-4e1d-4086-8386-74be1d48636a');\n",
              "          const dataTable =\n",
              "            await google.colab.kernel.invokeFunction('convertToInteractive',\n",
              "                                                     [key], {});\n",
              "          if (!dataTable) return;\n",
              "\n",
              "          const docLinkHtml = 'Like what you see? Visit the ' +\n",
              "            '<a target=\"_blank\" href=https://colab.research.google.com/notebooks/data_table.ipynb>data table notebook</a>'\n",
              "            + ' to learn more about interactive tables.';\n",
              "          element.innerHTML = '';\n",
              "          dataTable['output_type'] = 'display_data';\n",
              "          await google.colab.output.renderOutput(dataTable, element);\n",
              "          const docLink = document.createElement('div');\n",
              "          docLink.innerHTML = docLinkHtml;\n",
              "          element.appendChild(docLink);\n",
              "        }\n",
              "      </script>\n",
              "    </div>\n",
              "  </div>\n",
              "  "
            ]
          },
          "metadata": {},
          "execution_count": 344
        }
      ]
    },
    {
      "cell_type": "code",
      "source": [
        "dict=pd.DataFrame(w10_cpu.dtypes,columns=['Data types'])\n",
        "dict['null']=w10_cpu.isnull().sum()\n",
        "dict['unique vals']=w10_cpu.nunique()\n",
        "dict['count']=w10_cpu.count()\n",
        "dict"
      ],
      "metadata": {
        "colab": {
          "base_uri": "https://localhost:8080/",
          "height": 238
        },
        "id": "40OX1zK7ZsLg",
        "outputId": "e7447df8-3363-4e7f-8592-a6e79ce985b0"
      },
      "execution_count": 345,
      "outputs": [
        {
          "output_type": "execute_result",
          "data": {
            "text/plain": [
              "                              Data types  null  unique vals  count\n",
              "ts                                 int64     0        24871  24871\n",
              "Processor_pct_DPC_Time            object     0        13016  24871\n",
              "Processor_pct_Privileged_Time     object     0        24399  24871\n",
              "Process_pct_Privileged_Time       object     0        24797  24871\n",
              "Process_Thread_Count               int64     0         1161  24871\n",
              "Processor_pct_Processor_time      object     0        24733  24871"
            ],
            "text/html": [
              "\n",
              "  <div id=\"df-420e153b-ab1b-41ea-a8b5-4944ab78d1c0\">\n",
              "    <div class=\"colab-df-container\">\n",
              "      <div>\n",
              "<style scoped>\n",
              "    .dataframe tbody tr th:only-of-type {\n",
              "        vertical-align: middle;\n",
              "    }\n",
              "\n",
              "    .dataframe tbody tr th {\n",
              "        vertical-align: top;\n",
              "    }\n",
              "\n",
              "    .dataframe thead th {\n",
              "        text-align: right;\n",
              "    }\n",
              "</style>\n",
              "<table border=\"1\" class=\"dataframe\">\n",
              "  <thead>\n",
              "    <tr style=\"text-align: right;\">\n",
              "      <th></th>\n",
              "      <th>Data types</th>\n",
              "      <th>null</th>\n",
              "      <th>unique vals</th>\n",
              "      <th>count</th>\n",
              "    </tr>\n",
              "  </thead>\n",
              "  <tbody>\n",
              "    <tr>\n",
              "      <th>ts</th>\n",
              "      <td>int64</td>\n",
              "      <td>0</td>\n",
              "      <td>24871</td>\n",
              "      <td>24871</td>\n",
              "    </tr>\n",
              "    <tr>\n",
              "      <th>Processor_pct_DPC_Time</th>\n",
              "      <td>object</td>\n",
              "      <td>0</td>\n",
              "      <td>13016</td>\n",
              "      <td>24871</td>\n",
              "    </tr>\n",
              "    <tr>\n",
              "      <th>Processor_pct_Privileged_Time</th>\n",
              "      <td>object</td>\n",
              "      <td>0</td>\n",
              "      <td>24399</td>\n",
              "      <td>24871</td>\n",
              "    </tr>\n",
              "    <tr>\n",
              "      <th>Process_pct_Privileged_Time</th>\n",
              "      <td>object</td>\n",
              "      <td>0</td>\n",
              "      <td>24797</td>\n",
              "      <td>24871</td>\n",
              "    </tr>\n",
              "    <tr>\n",
              "      <th>Process_Thread_Count</th>\n",
              "      <td>int64</td>\n",
              "      <td>0</td>\n",
              "      <td>1161</td>\n",
              "      <td>24871</td>\n",
              "    </tr>\n",
              "    <tr>\n",
              "      <th>Processor_pct_Processor_time</th>\n",
              "      <td>object</td>\n",
              "      <td>0</td>\n",
              "      <td>24733</td>\n",
              "      <td>24871</td>\n",
              "    </tr>\n",
              "  </tbody>\n",
              "</table>\n",
              "</div>\n",
              "      <button class=\"colab-df-convert\" onclick=\"convertToInteractive('df-420e153b-ab1b-41ea-a8b5-4944ab78d1c0')\"\n",
              "              title=\"Convert this dataframe to an interactive table.\"\n",
              "              style=\"display:none;\">\n",
              "        \n",
              "  <svg xmlns=\"http://www.w3.org/2000/svg\" height=\"24px\"viewBox=\"0 0 24 24\"\n",
              "       width=\"24px\">\n",
              "    <path d=\"M0 0h24v24H0V0z\" fill=\"none\"/>\n",
              "    <path d=\"M18.56 5.44l.94 2.06.94-2.06 2.06-.94-2.06-.94-.94-2.06-.94 2.06-2.06.94zm-11 1L8.5 8.5l.94-2.06 2.06-.94-2.06-.94L8.5 2.5l-.94 2.06-2.06.94zm10 10l.94 2.06.94-2.06 2.06-.94-2.06-.94-.94-2.06-.94 2.06-2.06.94z\"/><path d=\"M17.41 7.96l-1.37-1.37c-.4-.4-.92-.59-1.43-.59-.52 0-1.04.2-1.43.59L10.3 9.45l-7.72 7.72c-.78.78-.78 2.05 0 2.83L4 21.41c.39.39.9.59 1.41.59.51 0 1.02-.2 1.41-.59l7.78-7.78 2.81-2.81c.8-.78.8-2.07 0-2.86zM5.41 20L4 18.59l7.72-7.72 1.47 1.35L5.41 20z\"/>\n",
              "  </svg>\n",
              "      </button>\n",
              "      \n",
              "  <style>\n",
              "    .colab-df-container {\n",
              "      display:flex;\n",
              "      flex-wrap:wrap;\n",
              "      gap: 12px;\n",
              "    }\n",
              "\n",
              "    .colab-df-convert {\n",
              "      background-color: #E8F0FE;\n",
              "      border: none;\n",
              "      border-radius: 50%;\n",
              "      cursor: pointer;\n",
              "      display: none;\n",
              "      fill: #1967D2;\n",
              "      height: 32px;\n",
              "      padding: 0 0 0 0;\n",
              "      width: 32px;\n",
              "    }\n",
              "\n",
              "    .colab-df-convert:hover {\n",
              "      background-color: #E2EBFA;\n",
              "      box-shadow: 0px 1px 2px rgba(60, 64, 67, 0.3), 0px 1px 3px 1px rgba(60, 64, 67, 0.15);\n",
              "      fill: #174EA6;\n",
              "    }\n",
              "\n",
              "    [theme=dark] .colab-df-convert {\n",
              "      background-color: #3B4455;\n",
              "      fill: #D2E3FC;\n",
              "    }\n",
              "\n",
              "    [theme=dark] .colab-df-convert:hover {\n",
              "      background-color: #434B5C;\n",
              "      box-shadow: 0px 1px 3px 1px rgba(0, 0, 0, 0.15);\n",
              "      filter: drop-shadow(0px 1px 2px rgba(0, 0, 0, 0.3));\n",
              "      fill: #FFFFFF;\n",
              "    }\n",
              "  </style>\n",
              "\n",
              "      <script>\n",
              "        const buttonEl =\n",
              "          document.querySelector('#df-420e153b-ab1b-41ea-a8b5-4944ab78d1c0 button.colab-df-convert');\n",
              "        buttonEl.style.display =\n",
              "          google.colab.kernel.accessAllowed ? 'block' : 'none';\n",
              "\n",
              "        async function convertToInteractive(key) {\n",
              "          const element = document.querySelector('#df-420e153b-ab1b-41ea-a8b5-4944ab78d1c0');\n",
              "          const dataTable =\n",
              "            await google.colab.kernel.invokeFunction('convertToInteractive',\n",
              "                                                     [key], {});\n",
              "          if (!dataTable) return;\n",
              "\n",
              "          const docLinkHtml = 'Like what you see? Visit the ' +\n",
              "            '<a target=\"_blank\" href=https://colab.research.google.com/notebooks/data_table.ipynb>data table notebook</a>'\n",
              "            + ' to learn more about interactive tables.';\n",
              "          element.innerHTML = '';\n",
              "          dataTable['output_type'] = 'display_data';\n",
              "          await google.colab.output.renderOutput(dataTable, element);\n",
              "          const docLink = document.createElement('div');\n",
              "          docLink.innerHTML = docLinkHtml;\n",
              "          element.appendChild(docLink);\n",
              "        }\n",
              "      </script>\n",
              "    </div>\n",
              "  </div>\n",
              "  "
            ]
          },
          "metadata": {},
          "execution_count": 345
        }
      ]
    },
    {
      "cell_type": "code",
      "source": [
        "#changing data types from stirng to float\n",
        "w10_cpu['Processor_pct_DPC_Time'] =pd.to_numeric(w10_cpu['Processor_pct_DPC_Time'],errors='coerce')\n",
        "w10_cpu['Processor_pct_Privileged_Time'] =pd.to_numeric(w10_cpu['Processor_pct_Privileged_Time'],errors='coerce')\n",
        "w10_cpu['Process_pct_Privileged_Time'] =pd.to_numeric(w10_cpu['Process_pct_Privileged_Time'],errors='coerce')\n",
        "w10_cpu['Processor_pct_Processor_time'] =pd.to_numeric(w10_cpu['Processor_pct_Processor_time'],errors='coerce')"
      ],
      "metadata": {
        "id": "hlUdN0Oqebvm"
      },
      "execution_count": 346,
      "outputs": []
    },
    {
      "cell_type": "code",
      "source": [
        "w10_cpu.info()"
      ],
      "metadata": {
        "colab": {
          "base_uri": "https://localhost:8080/"
        },
        "id": "75tFiSCyfJ59",
        "outputId": "7c3d296d-c8d1-4fdd-aaee-ebc13668d956"
      },
      "execution_count": 347,
      "outputs": [
        {
          "output_type": "stream",
          "name": "stdout",
          "text": [
            "<class 'pandas.core.frame.DataFrame'>\n",
            "RangeIndex: 24871 entries, 0 to 24870\n",
            "Data columns (total 6 columns):\n",
            " #   Column                         Non-Null Count  Dtype  \n",
            "---  ------                         --------------  -----  \n",
            " 0   ts                             24871 non-null  int64  \n",
            " 1   Processor_pct_DPC_Time         24862 non-null  float64\n",
            " 2   Processor_pct_Privileged_Time  24862 non-null  float64\n",
            " 3   Process_pct_Privileged_Time    24839 non-null  float64\n",
            " 4   Process_Thread_Count           24871 non-null  int64  \n",
            " 5   Processor_pct_Processor_time   24862 non-null  float64\n",
            "dtypes: float64(4), int64(2)\n",
            "memory usage: 1.1 MB\n"
          ]
        }
      ]
    },
    {
      "cell_type": "code",
      "source": [
        "w10_cpu.dropna(axis=0,inplace=True)"
      ],
      "metadata": {
        "id": "rw0bsw_o5Iwu"
      },
      "execution_count": 348,
      "outputs": []
    },
    {
      "cell_type": "code",
      "source": [
        "X=w10_cpu.iloc[:,:-1]\n",
        "y=w10_cpu['Processor_pct_Processor_time']"
      ],
      "metadata": {
        "id": "RqlUkf9JyUmm"
      },
      "execution_count": 349,
      "outputs": []
    },
    {
      "cell_type": "code",
      "source": [
        "from sklearn.model_selection import train_test_split\n",
        "X_train,X_test,y_train,y_test=train_test_split(X,y,test_size=0.3)"
      ],
      "metadata": {
        "id": "7PPF1JKYx_2Y"
      },
      "execution_count": 350,
      "outputs": []
    },
    {
      "cell_type": "code",
      "source": [
        "scaler=StandardScaler()\n",
        "X_train = scaler.fit_transform(X_train)\n",
        "X_test = scaler.transform(X_test)"
      ],
      "metadata": {
        "id": "-K_FqNKO0yGo"
      },
      "execution_count": 351,
      "outputs": []
    },
    {
      "cell_type": "code",
      "source": [
        "import tensorflow as tf\n",
        "from tensorflow import keras\n",
        "import keras.models"
      ],
      "metadata": {
        "id": "1KddAoARzWbW"
      },
      "execution_count": 352,
      "outputs": []
    },
    {
      "cell_type": "code",
      "source": [
        "X_train.shape"
      ],
      "metadata": {
        "colab": {
          "base_uri": "https://localhost:8080/"
        },
        "id": "vDnWa2qszbF7",
        "outputId": "306d2fcc-2268-4f13-cebb-eeafc58ea80e"
      },
      "execution_count": 353,
      "outputs": [
        {
          "output_type": "execute_result",
          "data": {
            "text/plain": [
              "(17387, 5)"
            ]
          },
          "metadata": {},
          "execution_count": 353
        }
      ]
    },
    {
      "cell_type": "code",
      "source": [
        "model=keras.Sequential([keras.layers.Dense(100,input_dim=5,activation='relu'),\n",
        "                         keras.layers.Dense(80,activation='relu'),\n",
        "                         keras.layers.Dense(60,activation='relu'),\n",
        "                         keras.layers.Dense(40,activation='relu'),\n",
        "                         keras.layers.Dense(1,activation='linear')\n",
        "])\n",
        "model.compile(optimizer='adam',\n",
        "              loss='mean_squared_error',\n",
        "              metrics=['mae'])"
      ],
      "metadata": {
        "id": "WRIAEtf2zelD"
      },
      "execution_count": 358,
      "outputs": []
    },
    {
      "cell_type": "code",
      "source": [
        "model.summary()"
      ],
      "metadata": {
        "colab": {
          "base_uri": "https://localhost:8080/"
        },
        "id": "S-OWrOfEziTa",
        "outputId": "53c0a24b-db3a-4a27-dedc-97982de2fb98"
      },
      "execution_count": 359,
      "outputs": [
        {
          "output_type": "stream",
          "name": "stdout",
          "text": [
            "Model: \"sequential_13\"\n",
            "_________________________________________________________________\n",
            " Layer (type)                Output Shape              Param #   \n",
            "=================================================================\n",
            " dense_73 (Dense)            (None, 100)               600       \n",
            "                                                                 \n",
            " dense_74 (Dense)            (None, 80)                8080      \n",
            "                                                                 \n",
            " dense_75 (Dense)            (None, 60)                4860      \n",
            "                                                                 \n",
            " dense_76 (Dense)            (None, 40)                2440      \n",
            "                                                                 \n",
            " dense_77 (Dense)            (None, 1)                 41        \n",
            "                                                                 \n",
            "=================================================================\n",
            "Total params: 16,021\n",
            "Trainable params: 16,021\n",
            "Non-trainable params: 0\n",
            "_________________________________________________________________\n"
          ]
        }
      ]
    },
    {
      "cell_type": "code",
      "source": [
        "history=model.fit(X_train,y_train,epochs=50,validation_split=0.2)"
      ],
      "metadata": {
        "colab": {
          "base_uri": "https://localhost:8080/"
        },
        "id": "wiUnkl9-zoWB",
        "outputId": "63baa4a9-7e93-4b99-fb9c-764a14cc3d65"
      },
      "execution_count": 360,
      "outputs": [
        {
          "output_type": "stream",
          "name": "stdout",
          "text": [
            "Epoch 1/50\n",
            "435/435 [==============================] - 2s 3ms/step - loss: 181.5276 - mae: 7.8051 - val_loss: 5.4166 - val_mae: 1.4832\n",
            "Epoch 2/50\n",
            "435/435 [==============================] - 1s 2ms/step - loss: 3.8202 - mae: 0.9585 - val_loss: 2.9441 - val_mae: 0.7157\n",
            "Epoch 3/50\n",
            "435/435 [==============================] - 1s 2ms/step - loss: 3.0857 - mae: 0.6964 - val_loss: 2.5255 - val_mae: 0.4463\n",
            "Epoch 4/50\n",
            "435/435 [==============================] - 1s 2ms/step - loss: 2.9896 - mae: 0.6715 - val_loss: 2.7318 - val_mae: 0.6690\n",
            "Epoch 5/50\n",
            "435/435 [==============================] - 1s 2ms/step - loss: 2.9840 - mae: 0.6460 - val_loss: 2.8083 - val_mae: 0.6940\n",
            "Epoch 6/50\n",
            "435/435 [==============================] - 1s 2ms/step - loss: 2.9860 - mae: 0.6564 - val_loss: 3.0737 - val_mae: 0.9512\n",
            "Epoch 7/50\n",
            "435/435 [==============================] - 2s 4ms/step - loss: 2.9199 - mae: 0.6415 - val_loss: 2.4035 - val_mae: 0.4721\n",
            "Epoch 8/50\n",
            "435/435 [==============================] - 1s 3ms/step - loss: 3.0034 - mae: 0.6782 - val_loss: 3.0191 - val_mae: 0.8640\n",
            "Epoch 9/50\n",
            "435/435 [==============================] - 1s 2ms/step - loss: 3.0160 - mae: 0.6957 - val_loss: 3.7972 - val_mae: 1.2661\n",
            "Epoch 10/50\n",
            "435/435 [==============================] - 1s 2ms/step - loss: 3.0911 - mae: 0.7281 - val_loss: 2.6320 - val_mae: 0.4671\n",
            "Epoch 11/50\n",
            "435/435 [==============================] - 1s 2ms/step - loss: 2.9218 - mae: 0.6679 - val_loss: 2.4075 - val_mae: 0.4209\n",
            "Epoch 12/50\n",
            "435/435 [==============================] - 1s 2ms/step - loss: 2.8396 - mae: 0.6155 - val_loss: 2.4119 - val_mae: 0.3820\n",
            "Epoch 13/50\n",
            "435/435 [==============================] - 1s 2ms/step - loss: 3.0764 - mae: 0.7404 - val_loss: 2.5951 - val_mae: 0.5296\n",
            "Epoch 14/50\n",
            "435/435 [==============================] - 1s 2ms/step - loss: 2.8092 - mae: 0.6297 - val_loss: 2.4199 - val_mae: 0.4252\n",
            "Epoch 15/50\n",
            "435/435 [==============================] - 1s 2ms/step - loss: 2.8958 - mae: 0.6731 - val_loss: 2.4380 - val_mae: 0.5007\n",
            "Epoch 16/50\n",
            "435/435 [==============================] - 1s 2ms/step - loss: 2.8293 - mae: 0.6485 - val_loss: 2.7296 - val_mae: 0.6488\n",
            "Epoch 17/50\n",
            "435/435 [==============================] - 1s 2ms/step - loss: 2.8917 - mae: 0.6788 - val_loss: 2.6147 - val_mae: 0.5999\n",
            "Epoch 18/50\n",
            "435/435 [==============================] - 1s 2ms/step - loss: 2.8294 - mae: 0.6744 - val_loss: 2.9804 - val_mae: 0.8465\n",
            "Epoch 19/50\n",
            "435/435 [==============================] - 1s 2ms/step - loss: 2.7588 - mae: 0.6011 - val_loss: 2.4834 - val_mae: 0.4338\n",
            "Epoch 20/50\n",
            "435/435 [==============================] - 1s 2ms/step - loss: 2.8301 - mae: 0.6559 - val_loss: 2.3983 - val_mae: 0.4641\n",
            "Epoch 21/50\n",
            "435/435 [==============================] - 1s 2ms/step - loss: 2.6975 - mae: 0.6111 - val_loss: 3.1102 - val_mae: 0.9567\n",
            "Epoch 22/50\n",
            "435/435 [==============================] - 1s 2ms/step - loss: 2.8781 - mae: 0.6822 - val_loss: 2.5787 - val_mae: 0.7069\n",
            "Epoch 23/50\n",
            "435/435 [==============================] - 1s 2ms/step - loss: 2.7606 - mae: 0.6428 - val_loss: 2.3087 - val_mae: 0.3630\n",
            "Epoch 24/50\n",
            "435/435 [==============================] - 1s 2ms/step - loss: 2.6857 - mae: 0.6232 - val_loss: 2.3641 - val_mae: 0.3909\n",
            "Epoch 25/50\n",
            "435/435 [==============================] - 1s 2ms/step - loss: 2.6525 - mae: 0.6039 - val_loss: 4.2964 - val_mae: 1.3159\n",
            "Epoch 26/50\n",
            "435/435 [==============================] - 1s 2ms/step - loss: 2.6504 - mae: 0.6083 - val_loss: 2.3761 - val_mae: 0.5420\n",
            "Epoch 27/50\n",
            "435/435 [==============================] - 1s 2ms/step - loss: 2.6542 - mae: 0.6183 - val_loss: 2.5901 - val_mae: 0.6628\n",
            "Epoch 28/50\n",
            "435/435 [==============================] - 1s 2ms/step - loss: 2.5761 - mae: 0.5975 - val_loss: 2.4881 - val_mae: 0.6337\n",
            "Epoch 29/50\n",
            "435/435 [==============================] - 1s 2ms/step - loss: 2.5472 - mae: 0.5995 - val_loss: 3.0330 - val_mae: 0.9918\n",
            "Epoch 30/50\n",
            "435/435 [==============================] - 1s 2ms/step - loss: 2.5720 - mae: 0.6098 - val_loss: 2.5757 - val_mae: 0.5689\n",
            "Epoch 31/50\n",
            "435/435 [==============================] - 1s 2ms/step - loss: 2.5694 - mae: 0.6016 - val_loss: 2.4394 - val_mae: 0.5204\n",
            "Epoch 32/50\n",
            "435/435 [==============================] - 1s 2ms/step - loss: 2.5226 - mae: 0.6021 - val_loss: 2.4781 - val_mae: 0.5898\n",
            "Epoch 33/50\n",
            "435/435 [==============================] - 1s 2ms/step - loss: 2.4936 - mae: 0.5901 - val_loss: 2.3391 - val_mae: 0.3620\n",
            "Epoch 34/50\n",
            "435/435 [==============================] - 1s 2ms/step - loss: 2.4460 - mae: 0.5586 - val_loss: 2.4400 - val_mae: 0.5162\n",
            "Epoch 35/50\n",
            "435/435 [==============================] - 1s 2ms/step - loss: 2.5400 - mae: 0.6180 - val_loss: 2.3627 - val_mae: 0.3689\n",
            "Epoch 36/50\n",
            "435/435 [==============================] - 1s 2ms/step - loss: 2.4828 - mae: 0.5717 - val_loss: 4.1415 - val_mae: 1.2119\n",
            "Epoch 37/50\n",
            "435/435 [==============================] - 1s 2ms/step - loss: 2.5594 - mae: 0.6214 - val_loss: 2.3217 - val_mae: 0.4245\n",
            "Epoch 38/50\n",
            "435/435 [==============================] - 1s 2ms/step - loss: 2.4940 - mae: 0.6052 - val_loss: 2.4717 - val_mae: 0.4805\n",
            "Epoch 39/50\n",
            "435/435 [==============================] - 1s 2ms/step - loss: 2.4680 - mae: 0.5948 - val_loss: 2.3732 - val_mae: 0.3489\n",
            "Epoch 40/50\n",
            "435/435 [==============================] - 1s 2ms/step - loss: 2.3563 - mae: 0.5503 - val_loss: 2.4522 - val_mae: 0.4930\n",
            "Epoch 41/50\n",
            "435/435 [==============================] - 1s 2ms/step - loss: 2.5073 - mae: 0.6379 - val_loss: 2.3890 - val_mae: 0.4004\n",
            "Epoch 42/50\n",
            "435/435 [==============================] - 1s 2ms/step - loss: 2.3865 - mae: 0.5542 - val_loss: 2.6564 - val_mae: 0.7246\n",
            "Epoch 43/50\n",
            "435/435 [==============================] - 1s 2ms/step - loss: 2.4213 - mae: 0.5957 - val_loss: 2.3769 - val_mae: 0.4405\n",
            "Epoch 44/50\n",
            "435/435 [==============================] - 1s 2ms/step - loss: 2.4744 - mae: 0.6121 - val_loss: 2.4637 - val_mae: 0.4218\n",
            "Epoch 45/50\n",
            "435/435 [==============================] - 1s 2ms/step - loss: 2.3766 - mae: 0.5742 - val_loss: 2.9882 - val_mae: 0.9509\n",
            "Epoch 46/50\n",
            "435/435 [==============================] - 1s 2ms/step - loss: 2.2986 - mae: 0.5571 - val_loss: 2.3877 - val_mae: 0.3992\n",
            "Epoch 47/50\n",
            "435/435 [==============================] - 1s 2ms/step - loss: 2.3791 - mae: 0.5724 - val_loss: 2.5470 - val_mae: 0.4680\n",
            "Epoch 48/50\n",
            "435/435 [==============================] - 1s 2ms/step - loss: 2.3802 - mae: 0.5840 - val_loss: 2.3673 - val_mae: 0.4239\n",
            "Epoch 49/50\n",
            "435/435 [==============================] - 1s 2ms/step - loss: 2.2914 - mae: 0.5344 - val_loss: 2.3536 - val_mae: 0.3916\n",
            "Epoch 50/50\n",
            "435/435 [==============================] - 1s 2ms/step - loss: 2.4616 - mae: 0.5987 - val_loss: 2.5863 - val_mae: 0.4945\n"
          ]
        }
      ]
    },
    {
      "cell_type": "code",
      "source": [
        "from matplotlib import pyplot as plt\n",
        "#plot the training and validation accuracy and loss at each epoch\n",
        "loss = history.history['loss']\n",
        "val_loss = history.history['val_loss']\n",
        "epochs = range(1, len(loss) + 1)\n",
        "plt.plot(epochs, loss, 'y', label='Training loss')\n",
        "plt.plot(epochs, val_loss, 'r', label='Validation loss')\n",
        "plt.title('Training and validation loss')\n",
        "plt.xlabel('Epochs')\n",
        "plt.ylabel('Loss')\n",
        "plt.legend()\n",
        "plt.show()"
      ],
      "metadata": {
        "colab": {
          "base_uri": "https://localhost:8080/",
          "height": 295
        },
        "id": "_fNRdxn28pfr",
        "outputId": "c30da60d-9906-483e-c9e5-c15d84d9963b"
      },
      "execution_count": 361,
      "outputs": [
        {
          "output_type": "display_data",
          "data": {
            "text/plain": [
              "<Figure size 432x288 with 1 Axes>"
            ],
            "image/png": "[encoded data removed]"
          },
          "metadata": {
            "needs_background": "light"
          }
        }
      ]
    },
    {
      "cell_type": "code",
      "source": [
        "acc = history.history['mae']\n",
        "val_acc = history.history['val_mae']\n",
        "plt.plot(epochs, acc, 'y', label='Training MAE')\n",
        "plt.plot(epochs, val_acc, 'r', label='Validation MAE')\n",
        "plt.title('Training and validation MAE')\n",
        "plt.xlabel('Epochs')\n",
        "plt.ylabel('Accuracy')\n",
        "plt.legend()\n",
        "plt.show()"
      ],
      "metadata": {
        "colab": {
          "base_uri": "https://localhost:8080/",
          "height": 295
        },
        "id": "6r0efX2n8wRN",
        "outputId": "b958bc5b-6cf8-4122-9e35-729c3ea89bf5"
      },
      "execution_count": 362,
      "outputs": [
        {
          "output_type": "display_data",
          "data": {
            "text/plain": [
              "<Figure size 432x288 with 1 Axes>"
            ],
            "image/png": "[encoded data removed]"
          },
          "metadata": {
            "needs_background": "light"
          }
        }
      ]
    },
    {
      "cell_type": "code",
      "source": [
        "pred=model.predict(X_test[:5])\n",
        "print('pred values are :',pred)\n",
        "print('real values are :',y_test[:5])"
      ],
      "metadata": {
        "colab": {
          "base_uri": "https://localhost:8080/"
        },
        "id": "WqdEdmDW8zC9",
        "outputId": "9e223b9e-ab53-4d13-e709-daad1ba91b23"
      },
      "execution_count": 363,
      "outputs": [
        {
          "output_type": "stream",
          "name": "stdout",
          "text": [
            "pred values are : [[47.435677]\n",
            " [54.186615]\n",
            " [54.30591 ]\n",
            " [15.981825]\n",
            " [21.54378 ]]\n",
            "real values are : 15835    47.854477\n",
            "11979    54.757010\n",
            "7055     55.235299\n",
            "11305    16.069074\n",
            "9220     21.718770\n",
            "Name: Processor_pct_Processor_time, dtype: float64\n"
          ]
        }
      ]
    },
    {
      "cell_type": "code",
      "source": [
        "pred=model.predict(X_test)"
      ],
      "metadata": {
        "id": "8G2dNMet_S3Y"
      },
      "execution_count": 367,
      "outputs": []
    },
    {
      "cell_type": "code",
      "source": [
        "MSE,MAE=model.evaluate(X_test,y_test)\n",
        "print('MSE:',MSE)\n",
        "print('MAE :',MAE)"
      ],
      "metadata": {
        "colab": {
          "base_uri": "https://localhost:8080/"
        },
        "id": "Jszf1o3Q88Ap",
        "outputId": "8cdb819b-a99c-4e21-c8e0-2248a2411df9"
      },
      "execution_count": 364,
      "outputs": [
        {
          "output_type": "stream",
          "name": "stdout",
          "text": [
            "233/233 [==============================] - 0s 1ms/step - loss: 2.2822 - mae: 0.4676\n",
            "MSE: 2.2821831703186035\n",
            "MAE : 0.46761274337768555\n"
          ]
        }
      ]
    },
    {
      "cell_type": "code",
      "source": [
        "from sklearn.metrics import r2_score\n",
        "r2_score(y_test, pred)"
      ],
      "metadata": {
        "colab": {
          "base_uri": "https://localhost:8080/"
        },
        "id": "htJWDXTp--iO",
        "outputId": "41c2cd0d-c72d-4a08-969b-da5434145859"
      },
      "execution_count": 369,
      "outputs": [
        {
          "output_type": "execute_result",
          "data": {
            "text/plain": [
              "0.994218915651011"
            ]
          },
          "metadata": {},
          "execution_count": 369
        }
      ]
    },
    {
      "cell_type": "code",
      "source": [
        ""
      ],
      "metadata": {
        "id": "Kw-oNdL6FwND"
      },
      "execution_count": null,
      "outputs": []
    },
    {
      "cell_type": "markdown",
      "source": [
        "## w_10_net_data\n",
        "\n",
        "\n"
      ],
      "metadata": {
        "id": "MRz_xuL3gkbG"
      }
    },
    {
      "cell_type": "code",
      "source": [
        "w10_net.head()"
      ],
      "metadata": {
        "colab": {
          "base_uri": "https://localhost:8080/",
          "height": 206
        },
        "id": "AM6HCar2g3h8",
        "outputId": "4cb64d72-9921-4887-bfb4-1be9f57d7307"
      },
      "execution_count": 396,
      "outputs": [
        {
          "output_type": "execute_result",
          "data": {
            "text/plain": [
              "           ts Bytes_Received_sec Bytes_Sent_sec Packets_Received_sec  \\\n",
              "0  1554206309        2610.579105    221.7209659          4.406378726   \n",
              "1  1554206319        2779.068663    210.6203615          4.500435074   \n",
              "2  1554206329        2731.098716    209.8086341          4.483090473   \n",
              "3  1554206339         2863.61556    262.6636373           4.81583445   \n",
              "4  1554206349        2818.654327     210.484576          4.497533675   \n",
              "\n",
              "   Packets_sec Packets_Sent_sec Bytes_Total_sec  \n",
              "0  8.512322539      4.105943813     2832.300071  \n",
              "1  8.400812138      3.900377064     2989.689025  \n",
              "2   8.36843555      3.885345077      2940.90735  \n",
              "3  9.431009131      4.615174681     3126.279197  \n",
              "4  8.395396194      3.897862518     3029.138903  "
            ],
            "text/html": [
              "\n",
              "  <div id=\"df-3d4387aa-fff3-4f84-ac8d-9c8bc45d7bc2\">\n",
              "    <div class=\"colab-df-container\">\n",
              "      <div>\n",
              "<style scoped>\n",
              "    .dataframe tbody tr th:only-of-type {\n",
              "        vertical-align: middle;\n",
              "    }\n",
              "\n",
              "    .dataframe tbody tr th {\n",
              "        vertical-align: top;\n",
              "    }\n",
              "\n",
              "    .dataframe thead th {\n",
              "        text-align: right;\n",
              "    }\n",
              "</style>\n",
              "<table border=\"1\" class=\"dataframe\">\n",
              "  <thead>\n",
              "    <tr style=\"text-align: right;\">\n",
              "      <th></th>\n",
              "      <th>ts</th>\n",
              "      <th>Bytes_Received_sec</th>\n",
              "      <th>Bytes_Sent_sec</th>\n",
              "      <th>Packets_Received_sec</th>\n",
              "      <th>Packets_sec</th>\n",
              "      <th>Packets_Sent_sec</th>\n",
              "      <th>Bytes_Total_sec</th>\n",
              "    </tr>\n",
              "  </thead>\n",
              "  <tbody>\n",
              "    <tr>\n",
              "      <th>0</th>\n",
              "      <td>1554206309</td>\n",
              "      <td>2610.579105</td>\n",
              "      <td>221.7209659</td>\n",
              "      <td>4.406378726</td>\n",
              "      <td>8.512322539</td>\n",
              "      <td>4.105943813</td>\n",
              "      <td>2832.300071</td>\n",
              "    </tr>\n",
              "    <tr>\n",
              "      <th>1</th>\n",
              "      <td>1554206319</td>\n",
              "      <td>2779.068663</td>\n",
              "      <td>210.6203615</td>\n",
              "      <td>4.500435074</td>\n",
              "      <td>8.400812138</td>\n",
              "      <td>3.900377064</td>\n",
              "      <td>2989.689025</td>\n",
              "    </tr>\n",
              "    <tr>\n",
              "      <th>2</th>\n",
              "      <td>1554206329</td>\n",
              "      <td>2731.098716</td>\n",
              "      <td>209.8086341</td>\n",
              "      <td>4.483090473</td>\n",
              "      <td>8.36843555</td>\n",
              "      <td>3.885345077</td>\n",
              "      <td>2940.90735</td>\n",
              "    </tr>\n",
              "    <tr>\n",
              "      <th>3</th>\n",
              "      <td>1554206339</td>\n",
              "      <td>2863.61556</td>\n",
              "      <td>262.6636373</td>\n",
              "      <td>4.81583445</td>\n",
              "      <td>9.431009131</td>\n",
              "      <td>4.615174681</td>\n",
              "      <td>3126.279197</td>\n",
              "    </tr>\n",
              "    <tr>\n",
              "      <th>4</th>\n",
              "      <td>1554206349</td>\n",
              "      <td>2818.654327</td>\n",
              "      <td>210.484576</td>\n",
              "      <td>4.497533675</td>\n",
              "      <td>8.395396194</td>\n",
              "      <td>3.897862518</td>\n",
              "      <td>3029.138903</td>\n",
              "    </tr>\n",
              "  </tbody>\n",
              "</table>\n",
              "</div>\n",
              "      <button class=\"colab-df-convert\" onclick=\"convertToInteractive('df-3d4387aa-fff3-4f84-ac8d-9c8bc45d7bc2')\"\n",
              "              title=\"Convert this dataframe to an interactive table.\"\n",
              "              style=\"display:none;\">\n",
              "        \n",
              "  <svg xmlns=\"http://www.w3.org/2000/svg\" height=\"24px\"viewBox=\"0 0 24 24\"\n",
              "       width=\"24px\">\n",
              "    <path d=\"M0 0h24v24H0V0z\" fill=\"none\"/>\n",
              "    <path d=\"M18.56 5.44l.94 2.06.94-2.06 2.06-.94-2.06-.94-.94-2.06-.94 2.06-2.06.94zm-11 1L8.5 8.5l.94-2.06 2.06-.94-2.06-.94L8.5 2.5l-.94 2.06-2.06.94zm10 10l.94 2.06.94-2.06 2.06-.94-2.06-.94-.94-2.06-.94 2.06-2.06.94z\"/><path d=\"M17.41 7.96l-1.37-1.37c-.4-.4-.92-.59-1.43-.59-.52 0-1.04.2-1.43.59L10.3 9.45l-7.72 7.72c-.78.78-.78 2.05 0 2.83L4 21.41c.39.39.9.59 1.41.59.51 0 1.02-.2 1.41-.59l7.78-7.78 2.81-2.81c.8-.78.8-2.07 0-2.86zM5.41 20L4 18.59l7.72-7.72 1.47 1.35L5.41 20z\"/>\n",
              "  </svg>\n",
              "      </button>\n",
              "      \n",
              "  <style>\n",
              "    .colab-df-container {\n",
              "      display:flex;\n",
              "      flex-wrap:wrap;\n",
              "      gap: 12px;\n",
              "    }\n",
              "\n",
              "    .colab-df-convert {\n",
              "      background-color: #E8F0FE;\n",
              "      border: none;\n",
              "      border-radius: 50%;\n",
              "      cursor: pointer;\n",
              "      display: none;\n",
              "      fill: #1967D2;\n",
              "      height: 32px;\n",
              "      padding: 0 0 0 0;\n",
              "      width: 32px;\n",
              "    }\n",
              "\n",
              "    .colab-df-convert:hover {\n",
              "      background-color: #E2EBFA;\n",
              "      box-shadow: 0px 1px 2px rgba(60, 64, 67, 0.3), 0px 1px 3px 1px rgba(60, 64, 67, 0.15);\n",
              "      fill: #174EA6;\n",
              "    }\n",
              "\n",
              "    [theme=dark] .colab-df-convert {\n",
              "      background-color: #3B4455;\n",
              "      fill: #D2E3FC;\n",
              "    }\n",
              "\n",
              "    [theme=dark] .colab-df-convert:hover {\n",
              "      background-color: #434B5C;\n",
              "      box-shadow: 0px 1px 3px 1px rgba(0, 0, 0, 0.15);\n",
              "      filter: drop-shadow(0px 1px 2px rgba(0, 0, 0, 0.3));\n",
              "      fill: #FFFFFF;\n",
              "    }\n",
              "  </style>\n",
              "\n",
              "      <script>\n",
              "        const buttonEl =\n",
              "          document.querySelector('#df-3d4387aa-fff3-4f84-ac8d-9c8bc45d7bc2 button.colab-df-convert');\n",
              "        buttonEl.style.display =\n",
              "          google.colab.kernel.accessAllowed ? 'block' : 'none';\n",
              "\n",
              "        async function convertToInteractive(key) {\n",
              "          const element = document.querySelector('#df-3d4387aa-fff3-4f84-ac8d-9c8bc45d7bc2');\n",
              "          const dataTable =\n",
              "            await google.colab.kernel.invokeFunction('convertToInteractive',\n",
              "                                                     [key], {});\n",
              "          if (!dataTable) return;\n",
              "\n",
              "          const docLinkHtml = 'Like what you see? Visit the ' +\n",
              "            '<a target=\"_blank\" href=https://colab.research.google.com/notebooks/data_table.ipynb>data table notebook</a>'\n",
              "            + ' to learn more about interactive tables.';\n",
              "          element.innerHTML = '';\n",
              "          dataTable['output_type'] = 'display_data';\n",
              "          await google.colab.output.renderOutput(dataTable, element);\n",
              "          const docLink = document.createElement('div');\n",
              "          docLink.innerHTML = docLinkHtml;\n",
              "          element.appendChild(docLink);\n",
              "        }\n",
              "      </script>\n",
              "    </div>\n",
              "  </div>\n",
              "  "
            ]
          },
          "metadata": {},
          "execution_count": 396
        }
      ]
    },
    {
      "cell_type": "code",
      "source": [
        "w10_net.info()"
      ],
      "metadata": {
        "colab": {
          "base_uri": "https://localhost:8080/"
        },
        "id": "IHU9Jbcbg7so",
        "outputId": "2886466d-3a1b-4fc2-b00e-e41208df7522"
      },
      "execution_count": 397,
      "outputs": [
        {
          "output_type": "stream",
          "name": "stdout",
          "text": [
            "<class 'pandas.core.frame.DataFrame'>\n",
            "RangeIndex: 24871 entries, 0 to 24870\n",
            "Data columns (total 7 columns):\n",
            " #   Column                Non-Null Count  Dtype \n",
            "---  ------                --------------  ----- \n",
            " 0   ts                    24871 non-null  int64 \n",
            " 1   Bytes_Received_sec    24871 non-null  object\n",
            " 2   Bytes_Sent_sec        24871 non-null  object\n",
            " 3   Packets_Received_sec  24871 non-null  object\n",
            " 4   Packets_sec           24871 non-null  object\n",
            " 5   Packets_Sent_sec      24871 non-null  object\n",
            " 6   Bytes_Total_sec       24871 non-null  object\n",
            "dtypes: int64(1), object(6)\n",
            "memory usage: 1.3+ MB\n"
          ]
        }
      ]
    },
    {
      "cell_type": "code",
      "source": [
        "dict=pd.DataFrame(w10_net.dtypes,columns=['Data types'])\n",
        "dict['null']=w10_net.isnull().sum()\n",
        "dict['unique vals']=w10_net.nunique()\n",
        "dict['count']=w10_net.count()\n",
        "dict"
      ],
      "metadata": {
        "colab": {
          "base_uri": "https://localhost:8080/",
          "height": 269
        },
        "id": "CzuIFMXohDKN",
        "outputId": "8fc36884-ede8-48ff-d19c-00496eefff6b"
      },
      "execution_count": 398,
      "outputs": [
        {
          "output_type": "execute_result",
          "data": {
            "text/plain": [
              "                     Data types  null  unique vals  count\n",
              "ts                        int64     0        24871  24871\n",
              "Bytes_Received_sec       object     0        24861  24871\n",
              "Bytes_Sent_sec           object     0        24159  24871\n",
              "Packets_Received_sec     object     0        24716  24871\n",
              "Packets_sec              object     0        24764  24871\n",
              "Packets_Sent_sec         object     0        23998  24871\n",
              "Bytes_Total_sec          object     0        24862  24871"
            ],
            "text/html": [
              "\n",
              "  <div id=\"df-fde05dd1-32bd-435e-912a-22030cb29e74\">\n",
              "    <div class=\"colab-df-container\">\n",
              "      <div>\n",
              "<style scoped>\n",
              "    .dataframe tbody tr th:only-of-type {\n",
              "        vertical-align: middle;\n",
              "    }\n",
              "\n",
              "    .dataframe tbody tr th {\n",
              "        vertical-align: top;\n",
              "    }\n",
              "\n",
              "    .dataframe thead th {\n",
              "        text-align: right;\n",
              "    }\n",
              "</style>\n",
              "<table border=\"1\" class=\"dataframe\">\n",
              "  <thead>\n",
              "    <tr style=\"text-align: right;\">\n",
              "      <th></th>\n",
              "      <th>Data types</th>\n",
              "      <th>null</th>\n",
              "      <th>unique vals</th>\n",
              "      <th>count</th>\n",
              "    </tr>\n",
              "  </thead>\n",
              "  <tbody>\n",
              "    <tr>\n",
              "      <th>ts</th>\n",
              "      <td>int64</td>\n",
              "      <td>0</td>\n",
              "      <td>24871</td>\n",
              "      <td>24871</td>\n",
              "    </tr>\n",
              "    <tr>\n",
              "      <th>Bytes_Received_sec</th>\n",
              "      <td>object</td>\n",
              "      <td>0</td>\n",
              "      <td>24861</td>\n",
              "      <td>24871</td>\n",
              "    </tr>\n",
              "    <tr>\n",
              "      <th>Bytes_Sent_sec</th>\n",
              "      <td>object</td>\n",
              "      <td>0</td>\n",
              "      <td>24159</td>\n",
              "      <td>24871</td>\n",
              "    </tr>\n",
              "    <tr>\n",
              "      <th>Packets_Received_sec</th>\n",
              "      <td>object</td>\n",
              "      <td>0</td>\n",
              "      <td>24716</td>\n",
              "      <td>24871</td>\n",
              "    </tr>\n",
              "    <tr>\n",
              "      <th>Packets_sec</th>\n",
              "      <td>object</td>\n",
              "      <td>0</td>\n",
              "      <td>24764</td>\n",
              "      <td>24871</td>\n",
              "    </tr>\n",
              "    <tr>\n",
              "      <th>Packets_Sent_sec</th>\n",
              "      <td>object</td>\n",
              "      <td>0</td>\n",
              "      <td>23998</td>\n",
              "      <td>24871</td>\n",
              "    </tr>\n",
              "    <tr>\n",
              "      <th>Bytes_Total_sec</th>\n",
              "      <td>object</td>\n",
              "      <td>0</td>\n",
              "      <td>24862</td>\n",
              "      <td>24871</td>\n",
              "    </tr>\n",
              "  </tbody>\n",
              "</table>\n",
              "</div>\n",
              "      <button class=\"colab-df-convert\" onclick=\"convertToInteractive('df-fde05dd1-32bd-435e-912a-22030cb29e74')\"\n",
              "              title=\"Convert this dataframe to an interactive table.\"\n",
              "              style=\"display:none;\">\n",
              "        \n",
              "  <svg xmlns=\"http://www.w3.org/2000/svg\" height=\"24px\"viewBox=\"0 0 24 24\"\n",
              "       width=\"24px\">\n",
              "    <path d=\"M0 0h24v24H0V0z\" fill=\"none\"/>\n",
              "    <path d=\"M18.56 5.44l.94 2.06.94-2.06 2.06-.94-2.06-.94-.94-2.06-.94 2.06-2.06.94zm-11 1L8.5 8.5l.94-2.06 2.06-.94-2.06-.94L8.5 2.5l-.94 2.06-2.06.94zm10 10l.94 2.06.94-2.06 2.06-.94-2.06-.94-.94-2.06-.94 2.06-2.06.94z\"/><path d=\"M17.41 7.96l-1.37-1.37c-.4-.4-.92-.59-1.43-.59-.52 0-1.04.2-1.43.59L10.3 9.45l-7.72 7.72c-.78.78-.78 2.05 0 2.83L4 21.41c.39.39.9.59 1.41.59.51 0 1.02-.2 1.41-.59l7.78-7.78 2.81-2.81c.8-.78.8-2.07 0-2.86zM5.41 20L4 18.59l7.72-7.72 1.47 1.35L5.41 20z\"/>\n",
              "  </svg>\n",
              "      </button>\n",
              "      \n",
              "  <style>\n",
              "    .colab-df-container {\n",
              "      display:flex;\n",
              "      flex-wrap:wrap;\n",
              "      gap: 12px;\n",
              "    }\n",
              "\n",
              "    .colab-df-convert {\n",
              "      background-color: #E8F0FE;\n",
              "      border: none;\n",
              "      border-radius: 50%;\n",
              "      cursor: pointer;\n",
              "      display: none;\n",
              "      fill: #1967D2;\n",
              "      height: 32px;\n",
              "      padding: 0 0 0 0;\n",
              "      width: 32px;\n",
              "    }\n",
              "\n",
              "    .colab-df-convert:hover {\n",
              "      background-color: #E2EBFA;\n",
              "      box-shadow: 0px 1px 2px rgba(60, 64, 67, 0.3), 0px 1px 3px 1px rgba(60, 64, 67, 0.15);\n",
              "      fill: #174EA6;\n",
              "    }\n",
              "\n",
              "    [theme=dark] .colab-df-convert {\n",
              "      background-color: #3B4455;\n",
              "      fill: #D2E3FC;\n",
              "    }\n",
              "\n",
              "    [theme=dark] .colab-df-convert:hover {\n",
              "      background-color: #434B5C;\n",
              "      box-shadow: 0px 1px 3px 1px rgba(0, 0, 0, 0.15);\n",
              "      filter: drop-shadow(0px 1px 2px rgba(0, 0, 0, 0.3));\n",
              "      fill: #FFFFFF;\n",
              "    }\n",
              "  </style>\n",
              "\n",
              "      <script>\n",
              "        const buttonEl =\n",
              "          document.querySelector('#df-fde05dd1-32bd-435e-912a-22030cb29e74 button.colab-df-convert');\n",
              "        buttonEl.style.display =\n",
              "          google.colab.kernel.accessAllowed ? 'block' : 'none';\n",
              "\n",
              "        async function convertToInteractive(key) {\n",
              "          const element = document.querySelector('#df-fde05dd1-32bd-435e-912a-22030cb29e74');\n",
              "          const dataTable =\n",
              "            await google.colab.kernel.invokeFunction('convertToInteractive',\n",
              "                                                     [key], {});\n",
              "          if (!dataTable) return;\n",
              "\n",
              "          const docLinkHtml = 'Like what you see? Visit the ' +\n",
              "            '<a target=\"_blank\" href=https://colab.research.google.com/notebooks/data_table.ipynb>data table notebook</a>'\n",
              "            + ' to learn more about interactive tables.';\n",
              "          element.innerHTML = '';\n",
              "          dataTable['output_type'] = 'display_data';\n",
              "          await google.colab.output.renderOutput(dataTable, element);\n",
              "          const docLink = document.createElement('div');\n",
              "          docLink.innerHTML = docLinkHtml;\n",
              "          element.appendChild(docLink);\n",
              "        }\n",
              "      </script>\n",
              "    </div>\n",
              "  </div>\n",
              "  "
            ]
          },
          "metadata": {},
          "execution_count": 398
        }
      ]
    },
    {
      "cell_type": "code",
      "source": [
        "#changing data types from stirng to float\n",
        "w10_net['Bytes_Received_sec'] =pd.to_numeric(w10_net['Bytes_Received_sec'],errors='coerce')\n",
        "w10_net['Bytes_Sent_sec'] =pd.to_numeric(w10_net['Bytes_Sent_sec'],errors='coerce')\n",
        "w10_net['Packets_Received_sec'] =pd.to_numeric(w10_net['Packets_Received_sec'],errors='coerce')\n",
        "w10_net['Packets_sec'] =pd.to_numeric(w10_net['Packets_sec'],errors='coerce')\n",
        "w10_net['Packets_Sent_sec'] =pd.to_numeric(w10_net['Packets_Sent_sec'],errors='coerce')\n",
        "w10_net['Bytes_Total_sec'] =pd.to_numeric(w10_net['Bytes_Total_sec'],errors='coerce')"
      ],
      "metadata": {
        "id": "6fdq-wSihQbV"
      },
      "execution_count": 455,
      "outputs": []
    },
    {
      "cell_type": "code",
      "source": [
        "w10_net.info()"
      ],
      "metadata": {
        "colab": {
          "base_uri": "https://localhost:8080/"
        },
        "id": "1iXJCwtRh8U-",
        "outputId": "bbd9f1dc-1ebf-4a55-e578-2d541a645d62"
      },
      "execution_count": 400,
      "outputs": [
        {
          "output_type": "stream",
          "name": "stdout",
          "text": [
            "<class 'pandas.core.frame.DataFrame'>\n",
            "RangeIndex: 24871 entries, 0 to 24870\n",
            "Data columns (total 7 columns):\n",
            " #   Column                Non-Null Count  Dtype  \n",
            "---  ------                --------------  -----  \n",
            " 0   ts                    24871 non-null  int64  \n",
            " 1   Bytes_Received_sec    24862 non-null  float64\n",
            " 2   Bytes_Sent_sec        24862 non-null  float64\n",
            " 3   Packets_Received_sec  24862 non-null  float64\n",
            " 4   Packets_sec           24862 non-null  float64\n",
            " 5   Packets_Sent_sec      24862 non-null  float64\n",
            " 6   Bytes_Total_sec       24862 non-null  float64\n",
            "dtypes: float64(6), int64(1)\n",
            "memory usage: 1.3 MB\n"
          ]
        }
      ]
    },
    {
      "cell_type": "code",
      "source": [
        "w10_net.dropna(axis=0,inplace=True)"
      ],
      "metadata": {
        "id": "A-m9t5nuBK7b"
      },
      "execution_count": 402,
      "outputs": []
    },
    {
      "cell_type": "code",
      "source": [
        "y=w10_net['Bytes_Total_sec']\n",
        "train=w10_net.iloc[:,:-1]"
      ],
      "metadata": {
        "id": "GWl8kRZ2ruWL"
      },
      "execution_count": 403,
      "outputs": []
    },
    {
      "cell_type": "code",
      "source": [
        "X=w10_net.iloc[:,:-1]\n",
        "y=w10_net['Bytes_Total_sec']"
      ],
      "metadata": {
        "id": "xCPSPzhABK7b"
      },
      "execution_count": 405,
      "outputs": []
    },
    {
      "cell_type": "code",
      "source": [
        "from sklearn.model_selection import train_test_split\n",
        "X_train,X_test,y_train,y_test=train_test_split(X,y,test_size=0.3)"
      ],
      "metadata": {
        "id": "JkLlvkiaBK7b"
      },
      "execution_count": 406,
      "outputs": []
    },
    {
      "cell_type": "code",
      "source": [
        "scaler=StandardScaler()\n",
        "X_train = scaler.fit_transform(X_train)\n",
        "X_test = scaler.transform(X_test)"
      ],
      "metadata": {
        "id": "Env-kbu6BK7c"
      },
      "execution_count": 407,
      "outputs": []
    },
    {
      "cell_type": "code",
      "source": [
        "X_train.shape"
      ],
      "metadata": {
        "colab": {
          "base_uri": "https://localhost:8080/"
        },
        "outputId": "1b61bb81-52ba-43ee-c2b3-80725a81da10",
        "id": "eAtD3nQ3BK7c"
      },
      "execution_count": 408,
      "outputs": [
        {
          "output_type": "execute_result",
          "data": {
            "text/plain": [
              "(17403, 6)"
            ]
          },
          "metadata": {},
          "execution_count": 408
        }
      ]
    },
    {
      "cell_type": "code",
      "source": [
        "model=keras.Sequential([keras.layers.Dense(100,input_dim=6,activation='relu'),\n",
        "                         keras.layers.Dense(80,activation='relu'),\n",
        "                         keras.layers.Dense(60,activation='relu'),\n",
        "                         keras.layers.Dense(40,activation='relu'),\n",
        "                         keras.layers.Dense(1,activation='linear')\n",
        "])\n",
        "model.compile(optimizer='adam',\n",
        "              loss='mean_squared_error',\n",
        "              metrics=['mae'])"
      ],
      "metadata": {
        "id": "slnhR01BBK7c"
      },
      "execution_count": 409,
      "outputs": []
    },
    {
      "cell_type": "code",
      "source": [
        "model.summary()"
      ],
      "metadata": {
        "colab": {
          "base_uri": "https://localhost:8080/"
        },
        "outputId": "44639d77-1aaf-4dd0-e215-29b2c6b180cc",
        "id": "7jGbtlpEBK7c"
      },
      "execution_count": 410,
      "outputs": [
        {
          "output_type": "stream",
          "name": "stdout",
          "text": [
            "Model: \"sequential_15\"\n",
            "_________________________________________________________________\n",
            " Layer (type)                Output Shape              Param #   \n",
            "=================================================================\n",
            " dense_83 (Dense)            (None, 100)               700       \n",
            "                                                                 \n",
            " dense_84 (Dense)            (None, 80)                8080      \n",
            "                                                                 \n",
            " dense_85 (Dense)            (None, 60)                4860      \n",
            "                                                                 \n",
            " dense_86 (Dense)            (None, 40)                2440      \n",
            "                                                                 \n",
            " dense_87 (Dense)            (None, 1)                 41        \n",
            "                                                                 \n",
            "=================================================================\n",
            "Total params: 16,121\n",
            "Trainable params: 16,121\n",
            "Non-trainable params: 0\n",
            "_________________________________________________________________\n"
          ]
        }
      ]
    },
    {
      "cell_type": "code",
      "source": [
        "history=model.fit(X_train,y_train,epochs=100,validation_split=0.2)"
      ],
      "metadata": {
        "colab": {
          "base_uri": "https://localhost:8080/"
        },
        "outputId": "1cce3e05-7b9f-4a79-d31b-160d379c5ab2",
        "id": "ypxyN3PpBK7c"
      },
      "execution_count": 412,
      "outputs": [
        {
          "output_type": "stream",
          "name": "stdout",
          "text": [
            "Epoch 1/100\n",
            "436/436 [==============================] - 1s 2ms/step - loss: 11387192.0000 - mae: 906.1478 - val_loss: 28451820.0000 - val_mae: 1646.8658\n",
            "Epoch 2/100\n",
            "436/436 [==============================] - 1s 2ms/step - loss: 6918856.5000 - mae: 957.2972 - val_loss: 2216888.7500 - val_mae: 623.7790\n",
            "Epoch 3/100\n",
            "436/436 [==============================] - 1s 2ms/step - loss: 56487896.0000 - mae: 1525.6383 - val_loss: 2045246.7500 - val_mae: 627.4944\n",
            "Epoch 4/100\n",
            "436/436 [==============================] - 1s 2ms/step - loss: 2393176.5000 - mae: 661.3172 - val_loss: 1878436.2500 - val_mae: 591.1855\n",
            "Epoch 5/100\n",
            "436/436 [==============================] - 1s 2ms/step - loss: 20253964.0000 - mae: 1005.7360 - val_loss: 4407511.5000 - val_mae: 847.5725\n",
            "Epoch 6/100\n",
            "436/436 [==============================] - 1s 3ms/step - loss: 3659373.0000 - mae: 725.6221 - val_loss: 1868303.0000 - val_mae: 767.5097\n",
            "Epoch 7/100\n",
            "436/436 [==============================] - 2s 3ms/step - loss: 3886195.7500 - mae: 726.2818 - val_loss: 4967459.5000 - val_mae: 803.2946\n",
            "Epoch 8/100\n",
            "436/436 [==============================] - 1s 2ms/step - loss: 3327772.2500 - mae: 694.1803 - val_loss: 1757331.8750 - val_mae: 759.1091\n",
            "Epoch 9/100\n",
            "436/436 [==============================] - 1s 2ms/step - loss: 2598427.2500 - mae: 602.1917 - val_loss: 16620420.0000 - val_mae: 1162.6636\n",
            "Epoch 10/100\n",
            "436/436 [==============================] - 1s 2ms/step - loss: 53199772.0000 - mae: 1387.8865 - val_loss: 2648061.7500 - val_mae: 631.4850\n",
            "Epoch 11/100\n",
            "436/436 [==============================] - 1s 2ms/step - loss: 2934890.2500 - mae: 611.3962 - val_loss: 4533212.5000 - val_mae: 1113.1677\n",
            "Epoch 12/100\n",
            "436/436 [==============================] - 1s 2ms/step - loss: 6418053.5000 - mae: 734.7729 - val_loss: 1668004.1250 - val_mae: 545.8609\n",
            "Epoch 13/100\n",
            "436/436 [==============================] - 1s 2ms/step - loss: 5039215.0000 - mae: 689.7209 - val_loss: 1252763.8750 - val_mae: 432.8748\n",
            "Epoch 14/100\n",
            "436/436 [==============================] - 1s 2ms/step - loss: 3106627.7500 - mae: 570.5167 - val_loss: 3708777.7500 - val_mae: 603.4721\n",
            "Epoch 15/100\n",
            "436/436 [==============================] - 1s 2ms/step - loss: 13052238.0000 - mae: 944.1890 - val_loss: 1719887.3750 - val_mae: 455.0612\n",
            "Epoch 16/100\n",
            "436/436 [==============================] - 1s 2ms/step - loss: 69660240.0000 - mae: 2076.1155 - val_loss: 3375903.7500 - val_mae: 970.5153\n",
            "Epoch 17/100\n",
            "436/436 [==============================] - 1s 2ms/step - loss: 2645131.0000 - mae: 881.4769 - val_loss: 3226830.2500 - val_mae: 920.5752\n",
            "Epoch 18/100\n",
            "436/436 [==============================] - 1s 2ms/step - loss: 3448082.0000 - mae: 718.6869 - val_loss: 1780798.2500 - val_mae: 540.0233\n",
            "Epoch 19/100\n",
            "436/436 [==============================] - 1s 2ms/step - loss: 19704314.0000 - mae: 1171.3683 - val_loss: 3841455.2500 - val_mae: 740.1908\n",
            "Epoch 20/100\n",
            "436/436 [==============================] - 1s 2ms/step - loss: 5344744.5000 - mae: 612.0938 - val_loss: 1373247.1250 - val_mae: 390.7520\n",
            "Epoch 21/100\n",
            "436/436 [==============================] - 1s 2ms/step - loss: 3465571.7500 - mae: 555.3128 - val_loss: 4958908.0000 - val_mae: 624.2748\n",
            "Epoch 22/100\n",
            "436/436 [==============================] - 1s 2ms/step - loss: 12846060.0000 - mae: 823.8182 - val_loss: 2494254.7500 - val_mae: 613.2065\n",
            "Epoch 23/100\n",
            "436/436 [==============================] - 1s 2ms/step - loss: 179489216.0000 - mae: 1783.9960 - val_loss: 41345140.0000 - val_mae: 1973.4203\n",
            "Epoch 24/100\n",
            "436/436 [==============================] - 1s 2ms/step - loss: 47462748.0000 - mae: 1155.5128 - val_loss: 1591881.0000 - val_mae: 429.2212\n",
            "Epoch 25/100\n",
            "436/436 [==============================] - 1s 2ms/step - loss: 1962282.0000 - mae: 451.9803 - val_loss: 1534843.3750 - val_mae: 498.1671\n",
            "Epoch 26/100\n",
            "436/436 [==============================] - 1s 2ms/step - loss: 1376151.7500 - mae: 409.9288 - val_loss: 1238663.3750 - val_mae: 370.3759\n",
            "Epoch 27/100\n",
            "436/436 [==============================] - 1s 2ms/step - loss: 1015350.3125 - mae: 363.5937 - val_loss: 3415006.2500 - val_mae: 468.9096\n",
            "Epoch 28/100\n",
            "436/436 [==============================] - 1s 2ms/step - loss: 1214847.0000 - mae: 389.2806 - val_loss: 1039989.6250 - val_mae: 311.6901\n",
            "Epoch 29/100\n",
            "436/436 [==============================] - 1s 2ms/step - loss: 2806411.7500 - mae: 487.0601 - val_loss: 5084385.0000 - val_mae: 1092.8413\n",
            "Epoch 30/100\n",
            "436/436 [==============================] - 1s 2ms/step - loss: 1931495.2500 - mae: 472.2816 - val_loss: 1425942.5000 - val_mae: 476.2176\n",
            "Epoch 31/100\n",
            "436/436 [==============================] - 1s 2ms/step - loss: 2152010.7500 - mae: 439.7973 - val_loss: 5429094.5000 - val_mae: 788.6368\n",
            "Epoch 32/100\n",
            "436/436 [==============================] - 1s 2ms/step - loss: 10704515.0000 - mae: 891.3512 - val_loss: 821086.4375 - val_mae: 307.7147\n",
            "Epoch 33/100\n",
            "436/436 [==============================] - 1s 2ms/step - loss: 43067260.0000 - mae: 1428.0148 - val_loss: 2061858.3750 - val_mae: 494.4996\n",
            "Epoch 34/100\n",
            "436/436 [==============================] - 1s 2ms/step - loss: 3503181.5000 - mae: 484.9168 - val_loss: 9540322.0000 - val_mae: 819.1396\n",
            "Epoch 35/100\n",
            "436/436 [==============================] - 1s 2ms/step - loss: 10275731.0000 - mae: 759.3873 - val_loss: 2364931.5000 - val_mae: 541.8151\n",
            "Epoch 36/100\n",
            "436/436 [==============================] - 1s 3ms/step - loss: 6080296.5000 - mae: 560.2915 - val_loss: 901781.8750 - val_mae: 270.8602\n",
            "Epoch 37/100\n",
            "436/436 [==============================] - 2s 5ms/step - loss: 2972310.2500 - mae: 471.7320 - val_loss: 10197368.0000 - val_mae: 1043.9579\n",
            "Epoch 38/100\n",
            "436/436 [==============================] - 1s 2ms/step - loss: 7909588.0000 - mae: 654.7942 - val_loss: 1339288.1250 - val_mae: 302.6095\n",
            "Epoch 39/100\n",
            "436/436 [==============================] - 1s 2ms/step - loss: 6091169.0000 - mae: 674.1163 - val_loss: 886745.2500 - val_mae: 278.3562\n",
            "Epoch 40/100\n",
            "436/436 [==============================] - 1s 2ms/step - loss: 12469430.0000 - mae: 904.1071 - val_loss: 3573060.7500 - val_mae: 557.2128\n",
            "Epoch 41/100\n",
            "436/436 [==============================] - 1s 2ms/step - loss: 1556826.7500 - mae: 400.1684 - val_loss: 754211.1250 - val_mae: 286.6142\n",
            "Epoch 42/100\n",
            "436/436 [==============================] - 1s 2ms/step - loss: 1435796.8750 - mae: 345.0946 - val_loss: 823629.4375 - val_mae: 267.2197\n",
            "Epoch 43/100\n",
            "436/436 [==============================] - 1s 2ms/step - loss: 48974932.0000 - mae: 1275.4795 - val_loss: 1177149.6250 - val_mae: 333.6290\n",
            "Epoch 44/100\n",
            "436/436 [==============================] - 1s 2ms/step - loss: 4380360.0000 - mae: 481.9464 - val_loss: 3333041.2500 - val_mae: 602.8007\n",
            "Epoch 45/100\n",
            "436/436 [==============================] - 1s 2ms/step - loss: 1466202.1250 - mae: 341.6865 - val_loss: 720461.1250 - val_mae: 228.1318\n",
            "Epoch 46/100\n",
            "436/436 [==============================] - 1s 2ms/step - loss: 24805048.0000 - mae: 984.8996 - val_loss: 777628.0625 - val_mae: 250.3271\n",
            "Epoch 47/100\n",
            "436/436 [==============================] - 1s 2ms/step - loss: 2983463.0000 - mae: 390.3414 - val_loss: 750373.0625 - val_mae: 244.3165\n",
            "Epoch 48/100\n",
            "436/436 [==============================] - 1s 3ms/step - loss: 1116866.5000 - mae: 313.2166 - val_loss: 853130.1250 - val_mae: 273.9071\n",
            "Epoch 49/100\n",
            "436/436 [==============================] - 1s 3ms/step - loss: 14049495.0000 - mae: 880.0344 - val_loss: 847740.5000 - val_mae: 317.8670\n",
            "Epoch 50/100\n",
            "436/436 [==============================] - 1s 2ms/step - loss: 10876631.0000 - mae: 579.0075 - val_loss: 1377400.3750 - val_mae: 350.4081\n",
            "Epoch 51/100\n",
            "436/436 [==============================] - 1s 2ms/step - loss: 7477891.0000 - mae: 580.9108 - val_loss: 879439.6250 - val_mae: 292.8553\n",
            "Epoch 52/100\n",
            "436/436 [==============================] - 1s 2ms/step - loss: 6282933.5000 - mae: 482.6905 - val_loss: 146598912.0000 - val_mae: 2408.8188\n",
            "Epoch 53/100\n",
            "436/436 [==============================] - 1s 2ms/step - loss: 5965040.0000 - mae: 672.9433 - val_loss: 751228.3750 - val_mae: 273.7357\n",
            "Epoch 54/100\n",
            "436/436 [==============================] - 1s 2ms/step - loss: 19853738.0000 - mae: 898.8233 - val_loss: 674815.0000 - val_mae: 329.7424\n",
            "Epoch 55/100\n",
            "436/436 [==============================] - 1s 2ms/step - loss: 15222906.0000 - mae: 727.7294 - val_loss: 10724308.0000 - val_mae: 633.6093\n",
            "Epoch 56/100\n",
            "436/436 [==============================] - 1s 2ms/step - loss: 8808002.0000 - mae: 753.1604 - val_loss: 1156976.2500 - val_mae: 308.4080\n",
            "Epoch 57/100\n",
            "436/436 [==============================] - 1s 2ms/step - loss: 5343076.0000 - mae: 463.9483 - val_loss: 696631.5000 - val_mae: 267.8610\n",
            "Epoch 58/100\n",
            "436/436 [==============================] - 1s 2ms/step - loss: 1143123.3750 - mae: 329.4622 - val_loss: 3432035.0000 - val_mae: 480.3990\n",
            "Epoch 59/100\n",
            "436/436 [==============================] - 1s 2ms/step - loss: 23648740.0000 - mae: 985.7917 - val_loss: 105638472.0000 - val_mae: 2993.8374\n",
            "Epoch 60/100\n",
            "436/436 [==============================] - 1s 2ms/step - loss: 6180144.0000 - mae: 559.4377 - val_loss: 837080.1250 - val_mae: 409.6778\n",
            "Epoch 61/100\n",
            "436/436 [==============================] - 1s 2ms/step - loss: 1367941.3750 - mae: 360.9892 - val_loss: 1268083.2500 - val_mae: 482.3879\n",
            "Epoch 62/100\n",
            "436/436 [==============================] - 1s 2ms/step - loss: 24079846.0000 - mae: 975.0703 - val_loss: 10770167.0000 - val_mae: 1946.1948\n",
            "Epoch 63/100\n",
            "436/436 [==============================] - 1s 2ms/step - loss: 17555774.0000 - mae: 830.2841 - val_loss: 1374742.6250 - val_mae: 417.6195\n",
            "Epoch 64/100\n",
            "436/436 [==============================] - 1s 2ms/step - loss: 16677263.0000 - mae: 625.9642 - val_loss: 671405.3125 - val_mae: 356.3242\n",
            "Epoch 65/100\n",
            "436/436 [==============================] - 1s 2ms/step - loss: 884118.7500 - mae: 295.4892 - val_loss: 599890.6250 - val_mae: 221.7874\n",
            "Epoch 66/100\n",
            "436/436 [==============================] - 1s 2ms/step - loss: 6179393.0000 - mae: 594.8719 - val_loss: 1253247.8750 - val_mae: 355.6024\n",
            "Epoch 67/100\n",
            "436/436 [==============================] - 1s 2ms/step - loss: 9789047.0000 - mae: 691.5958 - val_loss: 1133366.1250 - val_mae: 478.3305\n",
            "Epoch 68/100\n",
            "436/436 [==============================] - 1s 2ms/step - loss: 26739808.0000 - mae: 915.3102 - val_loss: 1638182.0000 - val_mae: 317.8882\n",
            "Epoch 69/100\n",
            "436/436 [==============================] - 1s 2ms/step - loss: 2216336.7500 - mae: 342.2576 - val_loss: 1366582.7500 - val_mae: 680.8064\n",
            "Epoch 70/100\n",
            "436/436 [==============================] - 1s 2ms/step - loss: 1758652.3750 - mae: 402.0531 - val_loss: 4304796.5000 - val_mae: 936.5127\n",
            "Epoch 71/100\n",
            "436/436 [==============================] - 1s 2ms/step - loss: 1460946.7500 - mae: 358.4169 - val_loss: 587381.1250 - val_mae: 230.7135\n",
            "Epoch 72/100\n",
            "436/436 [==============================] - 1s 2ms/step - loss: 3346287.5000 - mae: 461.5515 - val_loss: 3674882.5000 - val_mae: 1085.5258\n",
            "Epoch 73/100\n",
            "436/436 [==============================] - 1s 2ms/step - loss: 19425616.0000 - mae: 1133.0791 - val_loss: 2362312.2500 - val_mae: 440.0735\n",
            "Epoch 74/100\n",
            "436/436 [==============================] - 1s 2ms/step - loss: 6891338.5000 - mae: 600.8349 - val_loss: 535550.6875 - val_mae: 195.7611\n",
            "Epoch 75/100\n",
            "436/436 [==============================] - 1s 2ms/step - loss: 2304519.7500 - mae: 398.5872 - val_loss: 20513318.0000 - val_mae: 1288.5363\n",
            "Epoch 76/100\n",
            "436/436 [==============================] - 1s 2ms/step - loss: 4203658.0000 - mae: 546.2247 - val_loss: 1458068.8750 - val_mae: 758.1094\n",
            "Epoch 77/100\n",
            "436/436 [==============================] - 1s 2ms/step - loss: 26570512.0000 - mae: 978.8985 - val_loss: 765040.1250 - val_mae: 229.8059\n",
            "Epoch 78/100\n",
            "436/436 [==============================] - 1s 2ms/step - loss: 28678908.0000 - mae: 635.2266 - val_loss: 159745856.0000 - val_mae: 2360.6702\n",
            "Epoch 79/100\n",
            "436/436 [==============================] - 1s 2ms/step - loss: 39750080.0000 - mae: 1093.4304 - val_loss: 35361344.0000 - val_mae: 1349.0470\n",
            "Epoch 80/100\n",
            "436/436 [==============================] - 1s 2ms/step - loss: 5181798.0000 - mae: 530.3602 - val_loss: 757451.0000 - val_mae: 257.4763\n",
            "Epoch 81/100\n",
            "436/436 [==============================] - 1s 2ms/step - loss: 1020434.8750 - mae: 295.5233 - val_loss: 576563.6875 - val_mae: 346.5150\n",
            "Epoch 82/100\n",
            "436/436 [==============================] - 1s 2ms/step - loss: 538693.0000 - mae: 245.8458 - val_loss: 597770.6250 - val_mae: 282.6273\n",
            "Epoch 83/100\n",
            "436/436 [==============================] - 1s 2ms/step - loss: 11619479.0000 - mae: 591.8637 - val_loss: 117926904.0000 - val_mae: 4721.3906\n",
            "Epoch 84/100\n",
            "436/436 [==============================] - 1s 2ms/step - loss: 45180880.0000 - mae: 1582.6375 - val_loss: 46472688.0000 - val_mae: 1322.6056\n",
            "Epoch 85/100\n",
            "436/436 [==============================] - 1s 2ms/step - loss: 6225151.5000 - mae: 532.8087 - val_loss: 553707.6250 - val_mae: 203.7698\n",
            "Epoch 86/100\n",
            "436/436 [==============================] - 1s 2ms/step - loss: 1105736.2500 - mae: 273.0793 - val_loss: 3616451.0000 - val_mae: 567.8599\n",
            "Epoch 87/100\n",
            "436/436 [==============================] - 1s 2ms/step - loss: 1747625.0000 - mae: 357.9149 - val_loss: 1462858.2500 - val_mae: 296.0298\n",
            "Epoch 88/100\n",
            "436/436 [==============================] - 1s 2ms/step - loss: 658108.7500 - mae: 270.3762 - val_loss: 726273.5000 - val_mae: 360.9275\n",
            "Epoch 89/100\n",
            "436/436 [==============================] - 1s 2ms/step - loss: 22722264.0000 - mae: 842.1811 - val_loss: 508396.2188 - val_mae: 206.0474\n",
            "Epoch 90/100\n",
            "436/436 [==============================] - 1s 2ms/step - loss: 2834850.0000 - mae: 369.9835 - val_loss: 23469920.0000 - val_mae: 1181.2003\n",
            "Epoch 91/100\n",
            "436/436 [==============================] - 1s 2ms/step - loss: 10250870.0000 - mae: 716.9016 - val_loss: 706780.3750 - val_mae: 262.9189\n",
            "Epoch 92/100\n",
            "436/436 [==============================] - 1s 2ms/step - loss: 4197051.5000 - mae: 447.3934 - val_loss: 1074827.8750 - val_mae: 417.0160\n",
            "Epoch 93/100\n",
            "436/436 [==============================] - 1s 2ms/step - loss: 5215243.5000 - mae: 495.7992 - val_loss: 859505.7500 - val_mae: 410.6386\n",
            "Epoch 94/100\n",
            "436/436 [==============================] - 1s 2ms/step - loss: 38971564.0000 - mae: 1060.7601 - val_loss: 9679579.0000 - val_mae: 644.7192\n",
            "Epoch 95/100\n",
            "436/436 [==============================] - 1s 2ms/step - loss: 16659646.0000 - mae: 637.7631 - val_loss: 743335.3125 - val_mae: 341.0276\n",
            "Epoch 96/100\n",
            "436/436 [==============================] - 1s 2ms/step - loss: 1121088.7500 - mae: 287.0906 - val_loss: 540593.5000 - val_mae: 214.0867\n",
            "Epoch 97/100\n",
            "436/436 [==============================] - 1s 2ms/step - loss: 39247168.0000 - mae: 972.8970 - val_loss: 1076592.1250 - val_mae: 350.7062\n",
            "Epoch 98/100\n",
            "436/436 [==============================] - 2s 4ms/step - loss: 1672959.1250 - mae: 351.3834 - val_loss: 1408815.0000 - val_mae: 347.4497\n",
            "Epoch 99/100\n",
            "436/436 [==============================] - 1s 3ms/step - loss: 21115658.0000 - mae: 760.2654 - val_loss: 65465888.0000 - val_mae: 1423.5927\n",
            "Epoch 100/100\n",
            "436/436 [==============================] - 1s 2ms/step - loss: 5016444.5000 - mae: 416.4656 - val_loss: 879927.0625 - val_mae: 343.4818\n"
          ]
        }
      ]
    },
    {
      "cell_type": "code",
      "source": [
        "from matplotlib import pyplot as plt\n",
        "#plot the training and validation accuracy and loss at each epoch\n",
        "loss = history.history['loss']\n",
        "val_loss = history.history['val_loss']\n",
        "epochs = range(1, len(loss) + 1)\n",
        "plt.plot(epochs, loss, 'y', label='Training loss')\n",
        "plt.plot(epochs, val_loss, 'r', label='Validation loss')\n",
        "plt.title('Training and validation loss')\n",
        "plt.xlabel('Epochs')\n",
        "plt.ylabel('Loss')\n",
        "plt.legend()\n",
        "plt.show()"
      ],
      "metadata": {
        "colab": {
          "base_uri": "https://localhost:8080/",
          "height": 295
        },
        "outputId": "5d6393b6-0fef-438f-b371-3c6ef97aed15",
        "id": "lgZx3Ma9BK7d"
      },
      "execution_count": 413,
      "outputs": [
        {
          "output_type": "display_data",
          "data": {
            "text/plain": [
              "<Figure size 432x288 with 1 Axes>"
            ],
            "image/png": "[encoded data removed]"
          },
          "metadata": {
            "needs_background": "light"
          }
        }
      ]
    },
    {
      "cell_type": "code",
      "source": [
        "acc = history.history['mae']\n",
        "val_acc = history.history['val_mae']\n",
        "plt.plot(epochs, acc, 'y', label='Training MAE')\n",
        "plt.plot(epochs, val_acc, 'r', label='Validation MAE')\n",
        "plt.title('Training and validation MAE')\n",
        "plt.xlabel('Epochs')\n",
        "plt.ylabel('Accuracy')\n",
        "plt.legend()\n",
        "plt.show()"
      ],
      "metadata": {
        "colab": {
          "base_uri": "https://localhost:8080/",
          "height": 295
        },
        "outputId": "2bca6017-faca-4ba4-905d-e8dce5d9a7d1",
        "id": "yomRyIs6BK7d"
      },
      "execution_count": 414,
      "outputs": [
        {
          "output_type": "display_data",
          "data": {
            "text/plain": [
              "<Figure size 432x288 with 1 Axes>"
            ],
            "image/png": "[encoded data removed]"
          },
          "metadata": {
            "needs_background": "light"
          }
        }
      ]
    },
    {
      "cell_type": "code",
      "source": [
        "pred=model.predict(X_test[:5])\n",
        "print('pred values are :',pred)\n",
        "print('real values are :',y_test[:5])"
      ],
      "metadata": {
        "colab": {
          "base_uri": "https://localhost:8080/"
        },
        "outputId": "9e1c6a25-cc4a-4a0c-e4ac-6e8d92d98caa",
        "id": "Ne5P4x6eBK7d"
      },
      "execution_count": 415,
      "outputs": [
        {
          "output_type": "stream",
          "name": "stdout",
          "text": [
            "pred values are : [[4702.591 ]\n",
            " [5077.9976]\n",
            " [5934.6504]\n",
            " [4910.579 ]\n",
            " [4779.2627]]\n",
            "real values are : 12915    4918.908766\n",
            "13296    5321.200639\n",
            "4794     6062.304612\n",
            "12061    5017.058218\n",
            "16765    4971.205916\n",
            "Name: Bytes_Total_sec, dtype: float64\n"
          ]
        }
      ]
    },
    {
      "cell_type": "code",
      "source": [
        "pred=model.predict(X_test)"
      ],
      "metadata": {
        "id": "FYMpzwdkBK7d"
      },
      "execution_count": 416,
      "outputs": []
    },
    {
      "cell_type": "code",
      "source": [
        "MSE,MAE=model.evaluate(X_test,y_test)\n",
        "print('MSE:',MSE)\n",
        "print('MAE :',MAE)"
      ],
      "metadata": {
        "colab": {
          "base_uri": "https://localhost:8080/"
        },
        "outputId": "a4e90ceb-4933-4feb-dfa1-bc4e231f6ca5",
        "id": "qzlO7qNlBK7d"
      },
      "execution_count": 417,
      "outputs": [
        {
          "output_type": "stream",
          "name": "stdout",
          "text": [
            "234/234 [==============================] - 0s 1ms/step - loss: 1064369.8750 - mae: 354.3750\n",
            "MSE: 1064369.875\n",
            "MAE : 354.3749694824219\n"
          ]
        }
      ]
    },
    {
      "cell_type": "code",
      "source": [
        "from sklearn.metrics import r2_score\n",
        "r2_score(y_test, pred)"
      ],
      "metadata": {
        "colab": {
          "base_uri": "https://localhost:8080/"
        },
        "outputId": "9ece57cc-7c01-4761-fa46-d252d1e0617a",
        "id": "iqIhNKE0BK7d"
      },
      "execution_count": 418,
      "outputs": [
        {
          "output_type": "execute_result",
          "data": {
            "text/plain": [
              "0.9999890152757295"
            ]
          },
          "metadata": {},
          "execution_count": 418
        }
      ]
    },
    {
      "cell_type": "markdown",
      "source": [
        "## w_7_cpu_data"
      ],
      "metadata": {
        "id": "cmdgEgykiY4v"
      }
    },
    {
      "cell_type": "code",
      "source": [
        "w7_cpu.head()"
      ],
      "metadata": {
        "colab": {
          "base_uri": "https://localhost:8080/",
          "height": 206
        },
        "id": "ICw7Bz_WiKbm",
        "outputId": "48298d51-ad92-456f-e35b-c21fc8f68ee5"
      },
      "execution_count": 370,
      "outputs": [
        {
          "output_type": "execute_result",
          "data": {
            "text/plain": [
              "           ts Processor_pct_DPC_Time Processor_pct_Privileged_Time  \\\n",
              "0  1554185566            0.208333333                   7.708333333   \n",
              "1  1554185581                      0                   0.104166667   \n",
              "2  1554185596                      0                             0   \n",
              "3  1554185611                      0                   0.208333333   \n",
              "4  1554185626                      0                             0   \n",
              "\n",
              "  Process_pct_Privileged_Time  Process_Thread_Count  \\\n",
              "0                        97.5                 13414   \n",
              "1                 99.89583333                 13390   \n",
              "2                 99.79166667                 13392   \n",
              "3                 99.79166667                 12877   \n",
              "4                 99.79166667                 12849   \n",
              "\n",
              "  Processor_pct_Processor_time  \n",
              "0                  9.791666667  \n",
              "1                  0.208333333  \n",
              "2                  0.208333333  \n",
              "3                       0.3125  \n",
              "4                  0.208333333  "
            ],
            "text/html": [
              "\n",
              "  <div id=\"df-48803801-985c-453b-9e1b-eecc89a55ede\">\n",
              "    <div class=\"colab-df-container\">\n",
              "      <div>\n",
              "<style scoped>\n",
              "    .dataframe tbody tr th:only-of-type {\n",
              "        vertical-align: middle;\n",
              "    }\n",
              "\n",
              "    .dataframe tbody tr th {\n",
              "        vertical-align: top;\n",
              "    }\n",
              "\n",
              "    .dataframe thead th {\n",
              "        text-align: right;\n",
              "    }\n",
              "</style>\n",
              "<table border=\"1\" class=\"dataframe\">\n",
              "  <thead>\n",
              "    <tr style=\"text-align: right;\">\n",
              "      <th></th>\n",
              "      <th>ts</th>\n",
              "      <th>Processor_pct_DPC_Time</th>\n",
              "      <th>Processor_pct_Privileged_Time</th>\n",
              "      <th>Process_pct_Privileged_Time</th>\n",
              "      <th>Process_Thread_Count</th>\n",
              "      <th>Processor_pct_Processor_time</th>\n",
              "    </tr>\n",
              "  </thead>\n",
              "  <tbody>\n",
              "    <tr>\n",
              "      <th>0</th>\n",
              "      <td>1554185566</td>\n",
              "      <td>0.208333333</td>\n",
              "      <td>7.708333333</td>\n",
              "      <td>97.5</td>\n",
              "      <td>13414</td>\n",
              "      <td>9.791666667</td>\n",
              "    </tr>\n",
              "    <tr>\n",
              "      <th>1</th>\n",
              "      <td>1554185581</td>\n",
              "      <td>0</td>\n",
              "      <td>0.104166667</td>\n",
              "      <td>99.89583333</td>\n",
              "      <td>13390</td>\n",
              "      <td>0.208333333</td>\n",
              "    </tr>\n",
              "    <tr>\n",
              "      <th>2</th>\n",
              "      <td>1554185596</td>\n",
              "      <td>0</td>\n",
              "      <td>0</td>\n",
              "      <td>99.79166667</td>\n",
              "      <td>13392</td>\n",
              "      <td>0.208333333</td>\n",
              "    </tr>\n",
              "    <tr>\n",
              "      <th>3</th>\n",
              "      <td>1554185611</td>\n",
              "      <td>0</td>\n",
              "      <td>0.208333333</td>\n",
              "      <td>99.79166667</td>\n",
              "      <td>12877</td>\n",
              "      <td>0.3125</td>\n",
              "    </tr>\n",
              "    <tr>\n",
              "      <th>4</th>\n",
              "      <td>1554185626</td>\n",
              "      <td>0</td>\n",
              "      <td>0</td>\n",
              "      <td>99.79166667</td>\n",
              "      <td>12849</td>\n",
              "      <td>0.208333333</td>\n",
              "    </tr>\n",
              "  </tbody>\n",
              "</table>\n",
              "</div>\n",
              "      <button class=\"colab-df-convert\" onclick=\"convertToInteractive('df-48803801-985c-453b-9e1b-eecc89a55ede')\"\n",
              "              title=\"Convert this dataframe to an interactive table.\"\n",
              "              style=\"display:none;\">\n",
              "        \n",
              "  <svg xmlns=\"http://www.w3.org/2000/svg\" height=\"24px\"viewBox=\"0 0 24 24\"\n",
              "       width=\"24px\">\n",
              "    <path d=\"M0 0h24v24H0V0z\" fill=\"none\"/>\n",
              "    <path d=\"M18.56 5.44l.94 2.06.94-2.06 2.06-.94-2.06-.94-.94-2.06-.94 2.06-2.06.94zm-11 1L8.5 8.5l.94-2.06 2.06-.94-2.06-.94L8.5 2.5l-.94 2.06-2.06.94zm10 10l.94 2.06.94-2.06 2.06-.94-2.06-.94-.94-2.06-.94 2.06-2.06.94z\"/><path d=\"M17.41 7.96l-1.37-1.37c-.4-.4-.92-.59-1.43-.59-.52 0-1.04.2-1.43.59L10.3 9.45l-7.72 7.72c-.78.78-.78 2.05 0 2.83L4 21.41c.39.39.9.59 1.41.59.51 0 1.02-.2 1.41-.59l7.78-7.78 2.81-2.81c.8-.78.8-2.07 0-2.86zM5.41 20L4 18.59l7.72-7.72 1.47 1.35L5.41 20z\"/>\n",
              "  </svg>\n",
              "      </button>\n",
              "      \n",
              "  <style>\n",
              "    .colab-df-container {\n",
              "      display:flex;\n",
              "      flex-wrap:wrap;\n",
              "      gap: 12px;\n",
              "    }\n",
              "\n",
              "    .colab-df-convert {\n",
              "      background-color: #E8F0FE;\n",
              "      border: none;\n",
              "      border-radius: 50%;\n",
              "      cursor: pointer;\n",
              "      display: none;\n",
              "      fill: #1967D2;\n",
              "      height: 32px;\n",
              "      padding: 0 0 0 0;\n",
              "      width: 32px;\n",
              "    }\n",
              "\n",
              "    .colab-df-convert:hover {\n",
              "      background-color: #E2EBFA;\n",
              "      box-shadow: 0px 1px 2px rgba(60, 64, 67, 0.3), 0px 1px 3px 1px rgba(60, 64, 67, 0.15);\n",
              "      fill: #174EA6;\n",
              "    }\n",
              "\n",
              "    [theme=dark] .colab-df-convert {\n",
              "      background-color: #3B4455;\n",
              "      fill: #D2E3FC;\n",
              "    }\n",
              "\n",
              "    [theme=dark] .colab-df-convert:hover {\n",
              "      background-color: #434B5C;\n",
              "      box-shadow: 0px 1px 3px 1px rgba(0, 0, 0, 0.15);\n",
              "      filter: drop-shadow(0px 1px 2px rgba(0, 0, 0, 0.3));\n",
              "      fill: #FFFFFF;\n",
              "    }\n",
              "  </style>\n",
              "\n",
              "      <script>\n",
              "        const buttonEl =\n",
              "          document.querySelector('#df-48803801-985c-453b-9e1b-eecc89a55ede button.colab-df-convert');\n",
              "        buttonEl.style.display =\n",
              "          google.colab.kernel.accessAllowed ? 'block' : 'none';\n",
              "\n",
              "        async function convertToInteractive(key) {\n",
              "          const element = document.querySelector('#df-48803801-985c-453b-9e1b-eecc89a55ede');\n",
              "          const dataTable =\n",
              "            await google.colab.kernel.invokeFunction('convertToInteractive',\n",
              "                                                     [key], {});\n",
              "          if (!dataTable) return;\n",
              "\n",
              "          const docLinkHtml = 'Like what you see? Visit the ' +\n",
              "            '<a target=\"_blank\" href=https://colab.research.google.com/notebooks/data_table.ipynb>data table notebook</a>'\n",
              "            + ' to learn more about interactive tables.';\n",
              "          element.innerHTML = '';\n",
              "          dataTable['output_type'] = 'display_data';\n",
              "          await google.colab.output.renderOutput(dataTable, element);\n",
              "          const docLink = document.createElement('div');\n",
              "          docLink.innerHTML = docLinkHtml;\n",
              "          element.appendChild(docLink);\n",
              "        }\n",
              "      </script>\n",
              "    </div>\n",
              "  </div>\n",
              "  "
            ]
          },
          "metadata": {},
          "execution_count": 370
        }
      ]
    },
    {
      "cell_type": "code",
      "source": [
        "w7_cpu.info()"
      ],
      "metadata": {
        "colab": {
          "base_uri": "https://localhost:8080/"
        },
        "id": "MO434xkiiyz5",
        "outputId": "858f8daf-9455-4b27-8b09-7abf82dc3ebb"
      },
      "execution_count": 371,
      "outputs": [
        {
          "output_type": "stream",
          "name": "stdout",
          "text": [
            "<class 'pandas.core.frame.DataFrame'>\n",
            "RangeIndex: 22387 entries, 0 to 22386\n",
            "Data columns (total 6 columns):\n",
            " #   Column                         Non-Null Count  Dtype \n",
            "---  ------                         --------------  ----- \n",
            " 0   ts                             22387 non-null  int64 \n",
            " 1   Processor_pct_DPC_Time         22387 non-null  object\n",
            " 2   Processor_pct_Privileged_Time  22387 non-null  object\n",
            " 3   Process_pct_Privileged_Time    22387 non-null  object\n",
            " 4   Process_Thread_Count           22387 non-null  int64 \n",
            " 5   Processor_pct_Processor_time   22387 non-null  object\n",
            "dtypes: int64(2), object(4)\n",
            "memory usage: 1.0+ MB\n"
          ]
        }
      ]
    },
    {
      "cell_type": "code",
      "source": [
        "dict=pd.DataFrame(w7_cpu.dtypes,columns=['Data types'])\n",
        "dict['null']=w7_cpu.isnull().sum()\n",
        "dict['unique vals']=w7_cpu.nunique()\n",
        "dict['count']=w7_cpu.count()\n",
        "dict"
      ],
      "metadata": {
        "colab": {
          "base_uri": "https://localhost:8080/",
          "height": 238
        },
        "id": "w1Rh4ZBQje5X",
        "outputId": "08cc2cad-4086-44c9-f8b8-7ab0b18667c2"
      },
      "execution_count": 372,
      "outputs": [
        {
          "output_type": "execute_result",
          "data": {
            "text/plain": [
              "                              Data types  null  unique vals  count\n",
              "ts                                 int64     0        22387  22387\n",
              "Processor_pct_DPC_Time            object     0          794  22387\n",
              "Processor_pct_Privileged_Time     object     0         2859  22387\n",
              "Process_pct_Privileged_Time       object     0         2337  22387\n",
              "Process_Thread_Count               int64     0         3931  22387\n",
              "Processor_pct_Processor_time      object     0         3216  22387"
            ],
            "text/html": [
              "\n",
              "  <div id=\"df-a95d045c-bdcc-416e-b53f-210abdd62fc9\">\n",
              "    <div class=\"colab-df-container\">\n",
              "      <div>\n",
              "<style scoped>\n",
              "    .dataframe tbody tr th:only-of-type {\n",
              "        vertical-align: middle;\n",
              "    }\n",
              "\n",
              "    .dataframe tbody tr th {\n",
              "        vertical-align: top;\n",
              "    }\n",
              "\n",
              "    .dataframe thead th {\n",
              "        text-align: right;\n",
              "    }\n",
              "</style>\n",
              "<table border=\"1\" class=\"dataframe\">\n",
              "  <thead>\n",
              "    <tr style=\"text-align: right;\">\n",
              "      <th></th>\n",
              "      <th>Data types</th>\n",
              "      <th>null</th>\n",
              "      <th>unique vals</th>\n",
              "      <th>count</th>\n",
              "    </tr>\n",
              "  </thead>\n",
              "  <tbody>\n",
              "    <tr>\n",
              "      <th>ts</th>\n",
              "      <td>int64</td>\n",
              "      <td>0</td>\n",
              "      <td>22387</td>\n",
              "      <td>22387</td>\n",
              "    </tr>\n",
              "    <tr>\n",
              "      <th>Processor_pct_DPC_Time</th>\n",
              "      <td>object</td>\n",
              "      <td>0</td>\n",
              "      <td>794</td>\n",
              "      <td>22387</td>\n",
              "    </tr>\n",
              "    <tr>\n",
              "      <th>Processor_pct_Privileged_Time</th>\n",
              "      <td>object</td>\n",
              "      <td>0</td>\n",
              "      <td>2859</td>\n",
              "      <td>22387</td>\n",
              "    </tr>\n",
              "    <tr>\n",
              "      <th>Process_pct_Privileged_Time</th>\n",
              "      <td>object</td>\n",
              "      <td>0</td>\n",
              "      <td>2337</td>\n",
              "      <td>22387</td>\n",
              "    </tr>\n",
              "    <tr>\n",
              "      <th>Process_Thread_Count</th>\n",
              "      <td>int64</td>\n",
              "      <td>0</td>\n",
              "      <td>3931</td>\n",
              "      <td>22387</td>\n",
              "    </tr>\n",
              "    <tr>\n",
              "      <th>Processor_pct_Processor_time</th>\n",
              "      <td>object</td>\n",
              "      <td>0</td>\n",
              "      <td>3216</td>\n",
              "      <td>22387</td>\n",
              "    </tr>\n",
              "  </tbody>\n",
              "</table>\n",
              "</div>\n",
              "      <button class=\"colab-df-convert\" onclick=\"convertToInteractive('df-a95d045c-bdcc-416e-b53f-210abdd62fc9')\"\n",
              "              title=\"Convert this dataframe to an interactive table.\"\n",
              "              style=\"display:none;\">\n",
              "        \n",
              "  <svg xmlns=\"http://www.w3.org/2000/svg\" height=\"24px\"viewBox=\"0 0 24 24\"\n",
              "       width=\"24px\">\n",
              "    <path d=\"M0 0h24v24H0V0z\" fill=\"none\"/>\n",
              "    <path d=\"M18.56 5.44l.94 2.06.94-2.06 2.06-.94-2.06-.94-.94-2.06-.94 2.06-2.06.94zm-11 1L8.5 8.5l.94-2.06 2.06-.94-2.06-.94L8.5 2.5l-.94 2.06-2.06.94zm10 10l.94 2.06.94-2.06 2.06-.94-2.06-.94-.94-2.06-.94 2.06-2.06.94z\"/><path d=\"M17.41 7.96l-1.37-1.37c-.4-.4-.92-.59-1.43-.59-.52 0-1.04.2-1.43.59L10.3 9.45l-7.72 7.72c-.78.78-.78 2.05 0 2.83L4 21.41c.39.39.9.59 1.41.59.51 0 1.02-.2 1.41-.59l7.78-7.78 2.81-2.81c.8-.78.8-2.07 0-2.86zM5.41 20L4 18.59l7.72-7.72 1.47 1.35L5.41 20z\"/>\n",
              "  </svg>\n",
              "      </button>\n",
              "      \n",
              "  <style>\n",
              "    .colab-df-container {\n",
              "      display:flex;\n",
              "      flex-wrap:wrap;\n",
              "      gap: 12px;\n",
              "    }\n",
              "\n",
              "    .colab-df-convert {\n",
              "      background-color: #E8F0FE;\n",
              "      border: none;\n",
              "      border-radius: 50%;\n",
              "      cursor: pointer;\n",
              "      display: none;\n",
              "      fill: #1967D2;\n",
              "      height: 32px;\n",
              "      padding: 0 0 0 0;\n",
              "      width: 32px;\n",
              "    }\n",
              "\n",
              "    .colab-df-convert:hover {\n",
              "      background-color: #E2EBFA;\n",
              "      box-shadow: 0px 1px 2px rgba(60, 64, 67, 0.3), 0px 1px 3px 1px rgba(60, 64, 67, 0.15);\n",
              "      fill: #174EA6;\n",
              "    }\n",
              "\n",
              "    [theme=dark] .colab-df-convert {\n",
              "      background-color: #3B4455;\n",
              "      fill: #D2E3FC;\n",
              "    }\n",
              "\n",
              "    [theme=dark] .colab-df-convert:hover {\n",
              "      background-color: #434B5C;\n",
              "      box-shadow: 0px 1px 3px 1px rgba(0, 0, 0, 0.15);\n",
              "      filter: drop-shadow(0px 1px 2px rgba(0, 0, 0, 0.3));\n",
              "      fill: #FFFFFF;\n",
              "    }\n",
              "  </style>\n",
              "\n",
              "      <script>\n",
              "        const buttonEl =\n",
              "          document.querySelector('#df-a95d045c-bdcc-416e-b53f-210abdd62fc9 button.colab-df-convert');\n",
              "        buttonEl.style.display =\n",
              "          google.colab.kernel.accessAllowed ? 'block' : 'none';\n",
              "\n",
              "        async function convertToInteractive(key) {\n",
              "          const element = document.querySelector('#df-a95d045c-bdcc-416e-b53f-210abdd62fc9');\n",
              "          const dataTable =\n",
              "            await google.colab.kernel.invokeFunction('convertToInteractive',\n",
              "                                                     [key], {});\n",
              "          if (!dataTable) return;\n",
              "\n",
              "          const docLinkHtml = 'Like what you see? Visit the ' +\n",
              "            '<a target=\"_blank\" href=https://colab.research.google.com/notebooks/data_table.ipynb>data table notebook</a>'\n",
              "            + ' to learn more about interactive tables.';\n",
              "          element.innerHTML = '';\n",
              "          dataTable['output_type'] = 'display_data';\n",
              "          await google.colab.output.renderOutput(dataTable, element);\n",
              "          const docLink = document.createElement('div');\n",
              "          docLink.innerHTML = docLinkHtml;\n",
              "          element.appendChild(docLink);\n",
              "        }\n",
              "      </script>\n",
              "    </div>\n",
              "  </div>\n",
              "  "
            ]
          },
          "metadata": {},
          "execution_count": 372
        }
      ]
    },
    {
      "cell_type": "code",
      "source": [
        "#changing data types from stirng to float\n",
        "w7_cpu['Processor_pct_DPC_Time'] =pd.to_numeric(w7_cpu['Processor_pct_DPC_Time'],errors='coerce')\n",
        "w7_cpu['Processor_pct_Privileged_Time'] =pd.to_numeric(w7_cpu['Processor_pct_Privileged_Time'],errors='coerce')\n",
        "w7_cpu['Process_pct_Privileged_Time'] =pd.to_numeric(w7_cpu['Process_pct_Privileged_Time'],errors='coerce')\n",
        "w7_cpu['Processor_pct_Processor_time'] =pd.to_numeric(w7_cpu['Processor_pct_Processor_time'],errors='coerce')"
      ],
      "metadata": {
        "id": "5WuOlvcHjDLR"
      },
      "execution_count": 377,
      "outputs": []
    },
    {
      "cell_type": "code",
      "source": [
        "w7_cpu.info()"
      ],
      "metadata": {
        "colab": {
          "base_uri": "https://localhost:8080/"
        },
        "id": "1W-sER5-jZ8a",
        "outputId": "e98e5004-133f-482c-ef47-ab0199702d51"
      },
      "execution_count": 378,
      "outputs": [
        {
          "output_type": "stream",
          "name": "stdout",
          "text": [
            "<class 'pandas.core.frame.DataFrame'>\n",
            "RangeIndex: 22387 entries, 0 to 22386\n",
            "Data columns (total 6 columns):\n",
            " #   Column                         Non-Null Count  Dtype  \n",
            "---  ------                         --------------  -----  \n",
            " 0   ts                             22387 non-null  int64  \n",
            " 1   Processor_pct_DPC_Time         22381 non-null  float64\n",
            " 2   Processor_pct_Privileged_Time  22381 non-null  float64\n",
            " 3   Process_pct_Privileged_Time    22377 non-null  float64\n",
            " 4   Process_Thread_Count           22387 non-null  int64  \n",
            " 5   Processor_pct_Processor_time   22381 non-null  float64\n",
            "dtypes: float64(4), int64(2)\n",
            "memory usage: 1.0 MB\n"
          ]
        }
      ]
    },
    {
      "cell_type": "code",
      "source": [
        "w7_cpu.dropna(axis=0,inplace=True)"
      ],
      "metadata": {
        "id": "H_e3Px2MAFCL"
      },
      "execution_count": 379,
      "outputs": []
    },
    {
      "cell_type": "code",
      "source": [
        "X=w7_cpu.iloc[:,:-1]\n",
        "y=w7_cpu['Processor_pct_Processor_time']"
      ],
      "metadata": {
        "id": "LXFc0nCxAFCM"
      },
      "execution_count": 382,
      "outputs": []
    },
    {
      "cell_type": "code",
      "source": [
        "from sklearn.model_selection import train_test_split\n",
        "X_train,X_test,y_train,y_test=train_test_split(X,y,test_size=0.3)"
      ],
      "metadata": {
        "id": "w8sn3zKiAFCN"
      },
      "execution_count": 383,
      "outputs": []
    },
    {
      "cell_type": "code",
      "source": [
        "scaler=StandardScaler()\n",
        "X_train = scaler.fit_transform(X_train)\n",
        "X_test = scaler.transform(X_test)"
      ],
      "metadata": {
        "id": "WRqNSeiMAFCO"
      },
      "execution_count": 384,
      "outputs": []
    },
    {
      "cell_type": "code",
      "source": [
        "X_train.shape"
      ],
      "metadata": {
        "colab": {
          "base_uri": "https://localhost:8080/"
        },
        "outputId": "50ad4daa-c691-40cc-ed00-18bc885731b0",
        "id": "IbVLilZ-AFCP"
      },
      "execution_count": 386,
      "outputs": [
        {
          "output_type": "execute_result",
          "data": {
            "text/plain": [
              "(15663, 5)"
            ]
          },
          "metadata": {},
          "execution_count": 386
        }
      ]
    },
    {
      "cell_type": "code",
      "source": [
        "model=keras.Sequential([keras.layers.Dense(100,input_dim=5,activation='relu'),\n",
        "                         keras.layers.Dense(80,activation='relu'),\n",
        "                         keras.layers.Dense(60,activation='relu'),\n",
        "                         keras.layers.Dense(40,activation='relu'),\n",
        "                         keras.layers.Dense(1,activation='linear')\n",
        "])\n",
        "model.compile(optimizer='adam',\n",
        "              loss='mean_squared_error',\n",
        "              metrics=['mae'])"
      ],
      "metadata": {
        "id": "9KakSJlYAFCQ"
      },
      "execution_count": 387,
      "outputs": []
    },
    {
      "cell_type": "code",
      "source": [
        "model.summary()"
      ],
      "metadata": {
        "colab": {
          "base_uri": "https://localhost:8080/"
        },
        "outputId": "b95ee5be-ca28-4445-98ba-d076f406cf16",
        "id": "qMMpXMLdAFCR"
      },
      "execution_count": 388,
      "outputs": [
        {
          "output_type": "stream",
          "name": "stdout",
          "text": [
            "Model: \"sequential_14\"\n",
            "_________________________________________________________________\n",
            " Layer (type)                Output Shape              Param #   \n",
            "=================================================================\n",
            " dense_78 (Dense)            (None, 100)               600       \n",
            "                                                                 \n",
            " dense_79 (Dense)            (None, 80)                8080      \n",
            "                                                                 \n",
            " dense_80 (Dense)            (None, 60)                4860      \n",
            "                                                                 \n",
            " dense_81 (Dense)            (None, 40)                2440      \n",
            "                                                                 \n",
            " dense_82 (Dense)            (None, 1)                 41        \n",
            "                                                                 \n",
            "=================================================================\n",
            "Total params: 16,021\n",
            "Trainable params: 16,021\n",
            "Non-trainable params: 0\n",
            "_________________________________________________________________\n"
          ]
        }
      ]
    },
    {
      "cell_type": "code",
      "source": [
        "history=model.fit(X_train,y_train,epochs=50,validation_split=0.2)"
      ],
      "metadata": {
        "colab": {
          "base_uri": "https://localhost:8080/"
        },
        "outputId": "7f4f6f70-ba75-4152-f2bd-86f0c7428d59",
        "id": "xcUQ2Y2UAFCR"
      },
      "execution_count": 389,
      "outputs": [
        {
          "output_type": "stream",
          "name": "stdout",
          "text": [
            "Epoch 1/50\n",
            "392/392 [==============================] - 2s 3ms/step - loss: 88.3866 - mae: 4.1471 - val_loss: 4.6058 - val_mae: 0.9733\n",
            "Epoch 2/50\n",
            "392/392 [==============================] - 1s 2ms/step - loss: 4.8132 - mae: 0.9926 - val_loss: 3.3709 - val_mae: 0.9415\n",
            "Epoch 3/50\n",
            "392/392 [==============================] - 1s 2ms/step - loss: 3.8897 - mae: 0.8862 - val_loss: 2.7056 - val_mae: 0.7844\n",
            "Epoch 4/50\n",
            "392/392 [==============================] - 1s 2ms/step - loss: 3.1943 - mae: 0.7516 - val_loss: 3.2404 - val_mae: 1.0502\n",
            "Epoch 5/50\n",
            "392/392 [==============================] - 1s 2ms/step - loss: 2.7142 - mae: 0.7365 - val_loss: 1.7924 - val_mae: 0.5561\n",
            "Epoch 6/50\n",
            "392/392 [==============================] - 1s 2ms/step - loss: 2.4382 - mae: 0.6905 - val_loss: 2.5913 - val_mae: 1.0167\n",
            "Epoch 7/50\n",
            "392/392 [==============================] - 1s 2ms/step - loss: 2.0362 - mae: 0.6215 - val_loss: 2.1190 - val_mae: 0.8918\n",
            "Epoch 8/50\n",
            "392/392 [==============================] - 1s 2ms/step - loss: 1.7324 - mae: 0.5873 - val_loss: 1.3058 - val_mae: 0.4776\n",
            "Epoch 9/50\n",
            "392/392 [==============================] - 1s 2ms/step - loss: 1.5590 - mae: 0.5869 - val_loss: 0.9817 - val_mae: 0.3933\n",
            "Epoch 10/50\n",
            "392/392 [==============================] - 1s 2ms/step - loss: 1.2472 - mae: 0.5203 - val_loss: 3.8749 - val_mae: 1.0812\n",
            "Epoch 11/50\n",
            "392/392 [==============================] - 1s 2ms/step - loss: 1.2125 - mae: 0.5379 - val_loss: 2.0564 - val_mae: 1.0271\n",
            "Epoch 12/50\n",
            "392/392 [==============================] - 1s 2ms/step - loss: 1.1037 - mae: 0.5392 - val_loss: 0.9671 - val_mae: 0.3533\n",
            "Epoch 13/50\n",
            "392/392 [==============================] - 1s 2ms/step - loss: 1.1459 - mae: 0.5313 - val_loss: 1.4119 - val_mae: 0.7048\n",
            "Epoch 14/50\n",
            "392/392 [==============================] - 1s 2ms/step - loss: 0.9202 - mae: 0.4782 - val_loss: 1.1654 - val_mae: 0.4757\n",
            "Epoch 15/50\n",
            "392/392 [==============================] - 1s 2ms/step - loss: 0.8999 - mae: 0.4704 - val_loss: 1.1381 - val_mae: 0.4698\n",
            "Epoch 16/50\n",
            "392/392 [==============================] - 1s 2ms/step - loss: 0.8909 - mae: 0.4809 - val_loss: 1.1750 - val_mae: 0.4548\n",
            "Epoch 17/50\n",
            "392/392 [==============================] - 1s 2ms/step - loss: 0.8267 - mae: 0.4707 - val_loss: 0.8685 - val_mae: 0.3453\n",
            "Epoch 18/50\n",
            "392/392 [==============================] - 1s 2ms/step - loss: 0.7846 - mae: 0.4511 - val_loss: 0.9618 - val_mae: 0.3725\n",
            "Epoch 19/50\n",
            "392/392 [==============================] - 1s 2ms/step - loss: 0.7679 - mae: 0.4347 - val_loss: 0.9322 - val_mae: 0.3414\n",
            "Epoch 20/50\n",
            "392/392 [==============================] - 1s 2ms/step - loss: 0.8552 - mae: 0.4525 - val_loss: 0.7614 - val_mae: 0.3369\n",
            "Epoch 21/50\n",
            "392/392 [==============================] - 1s 2ms/step - loss: 0.7342 - mae: 0.4401 - val_loss: 2.5699 - val_mae: 1.0270\n",
            "Epoch 22/50\n",
            "392/392 [==============================] - 1s 2ms/step - loss: 0.7120 - mae: 0.4530 - val_loss: 1.0726 - val_mae: 0.3682\n",
            "Epoch 23/50\n",
            "392/392 [==============================] - 1s 2ms/step - loss: 0.7905 - mae: 0.4578 - val_loss: 0.7439 - val_mae: 0.3987\n",
            "Epoch 24/50\n",
            "392/392 [==============================] - 1s 2ms/step - loss: 0.6382 - mae: 0.4105 - val_loss: 0.8172 - val_mae: 0.3171\n",
            "Epoch 25/50\n",
            "392/392 [==============================] - 1s 2ms/step - loss: 0.5893 - mae: 0.4096 - val_loss: 0.5878 - val_mae: 0.3169\n",
            "Epoch 26/50\n",
            "392/392 [==============================] - 1s 2ms/step - loss: 0.6635 - mae: 0.4246 - val_loss: 0.8575 - val_mae: 0.4417\n",
            "Epoch 27/50\n",
            "392/392 [==============================] - 1s 2ms/step - loss: 0.5830 - mae: 0.3851 - val_loss: 1.3960 - val_mae: 0.8606\n",
            "Epoch 28/50\n",
            "392/392 [==============================] - 1s 2ms/step - loss: 0.7264 - mae: 0.4520 - val_loss: 0.6422 - val_mae: 0.3325\n",
            "Epoch 29/50\n",
            "392/392 [==============================] - 1s 2ms/step - loss: 0.7906 - mae: 0.4421 - val_loss: 0.7832 - val_mae: 0.3632\n",
            "Epoch 30/50\n",
            "392/392 [==============================] - 1s 2ms/step - loss: 0.7678 - mae: 0.4375 - val_loss: 0.7247 - val_mae: 0.3514\n",
            "Epoch 31/50\n",
            "392/392 [==============================] - 1s 2ms/step - loss: 0.6617 - mae: 0.4309 - val_loss: 0.6527 - val_mae: 0.3358\n",
            "Epoch 32/50\n",
            "392/392 [==============================] - 1s 2ms/step - loss: 0.5086 - mae: 0.3578 - val_loss: 0.8126 - val_mae: 0.3941\n",
            "Epoch 33/50\n",
            "392/392 [==============================] - 1s 2ms/step - loss: 0.5331 - mae: 0.3751 - val_loss: 1.3459 - val_mae: 0.6130\n",
            "Epoch 34/50\n",
            "392/392 [==============================] - 1s 2ms/step - loss: 0.5615 - mae: 0.3950 - val_loss: 2.0319 - val_mae: 0.7918\n",
            "Epoch 35/50\n",
            "392/392 [==============================] - 1s 2ms/step - loss: 0.8553 - mae: 0.4859 - val_loss: 0.6527 - val_mae: 0.3083\n",
            "Epoch 36/50\n",
            "392/392 [==============================] - 1s 2ms/step - loss: 0.7466 - mae: 0.4366 - val_loss: 0.8879 - val_mae: 0.4435\n",
            "Epoch 37/50\n",
            "392/392 [==============================] - 1s 2ms/step - loss: 0.6386 - mae: 0.4164 - val_loss: 1.6596 - val_mae: 0.8360\n",
            "Epoch 38/50\n",
            "392/392 [==============================] - 1s 2ms/step - loss: 0.7107 - mae: 0.4584 - val_loss: 0.7007 - val_mae: 0.4284\n",
            "Epoch 39/50\n",
            "392/392 [==============================] - 1s 2ms/step - loss: 0.5733 - mae: 0.4078 - val_loss: 0.9292 - val_mae: 0.5016\n",
            "Epoch 40/50\n",
            "392/392 [==============================] - 1s 2ms/step - loss: 0.5695 - mae: 0.3930 - val_loss: 0.7008 - val_mae: 0.3259\n",
            "Epoch 41/50\n",
            "392/392 [==============================] - 1s 2ms/step - loss: 0.6318 - mae: 0.4215 - val_loss: 0.9211 - val_mae: 0.4312\n",
            "Epoch 42/50\n",
            "392/392 [==============================] - 1s 2ms/step - loss: 0.5469 - mae: 0.3819 - val_loss: 0.6795 - val_mae: 0.3880\n",
            "Epoch 43/50\n",
            "392/392 [==============================] - 1s 2ms/step - loss: 0.5356 - mae: 0.3677 - val_loss: 1.1109 - val_mae: 0.5109\n",
            "Epoch 44/50\n",
            "392/392 [==============================] - 1s 2ms/step - loss: 0.5900 - mae: 0.4031 - val_loss: 0.5605 - val_mae: 0.2957\n",
            "Epoch 45/50\n",
            "392/392 [==============================] - 1s 2ms/step - loss: 0.5976 - mae: 0.3957 - val_loss: 0.7674 - val_mae: 0.3815\n",
            "Epoch 46/50\n",
            "392/392 [==============================] - 1s 2ms/step - loss: 0.5092 - mae: 0.3700 - val_loss: 0.6823 - val_mae: 0.2907\n",
            "Epoch 47/50\n",
            "392/392 [==============================] - 1s 2ms/step - loss: 0.6068 - mae: 0.3854 - val_loss: 0.8482 - val_mae: 0.4935\n",
            "Epoch 48/50\n",
            "392/392 [==============================] - 1s 2ms/step - loss: 0.5732 - mae: 0.4024 - val_loss: 2.0304 - val_mae: 0.5174\n",
            "Epoch 49/50\n",
            "392/392 [==============================] - 1s 2ms/step - loss: 0.6385 - mae: 0.3968 - val_loss: 0.8475 - val_mae: 0.3809\n",
            "Epoch 50/50\n",
            "392/392 [==============================] - 1s 2ms/step - loss: 0.6629 - mae: 0.4164 - val_loss: 0.6498 - val_mae: 0.2884\n"
          ]
        }
      ]
    },
    {
      "cell_type": "code",
      "source": [
        "from matplotlib import pyplot as plt\n",
        "#plot the training and validation accuracy and loss at each epoch\n",
        "loss = history.history['loss']\n",
        "val_loss = history.history['val_loss']\n",
        "epochs = range(1, len(loss) + 1)\n",
        "plt.plot(epochs, loss, 'y', label='Training loss')\n",
        "plt.plot(epochs, val_loss, 'r', label='Validation loss')\n",
        "plt.title('Training and validation loss')\n",
        "plt.xlabel('Epochs')\n",
        "plt.ylabel('Loss')\n",
        "plt.legend()\n",
        "plt.show()"
      ],
      "metadata": {
        "colab": {
          "base_uri": "https://localhost:8080/",
          "height": 295
        },
        "outputId": "08efce3f-92f4-42f5-d2ba-acacc93fa766",
        "id": "iyJ11Mm3AFCS"
      },
      "execution_count": 390,
      "outputs": [
        {
          "output_type": "display_data",
          "data": {
            "text/plain": [
              "<Figure size 432x288 with 1 Axes>"
            ],
            "image/png": "[encoded data removed]"
          },
          "metadata": {
            "needs_background": "light"
          }
        }
      ]
    },
    {
      "cell_type": "code",
      "source": [
        "acc = history.history['mae']\n",
        "val_acc = history.history['val_mae']\n",
        "plt.plot(epochs, acc, 'y', label='Training MAE')\n",
        "plt.plot(epochs, val_acc, 'r', label='Validation MAE')\n",
        "plt.title('Training and validation MAE')\n",
        "plt.xlabel('Epochs')\n",
        "plt.ylabel('Accuracy')\n",
        "plt.legend()\n",
        "plt.show()"
      ],
      "metadata": {
        "colab": {
          "base_uri": "https://localhost:8080/",
          "height": 295
        },
        "outputId": "a2bb1345-dac0-4da7-f95a-13735f76f8f8",
        "id": "ib9pb6VnAFCT"
      },
      "execution_count": 391,
      "outputs": [
        {
          "output_type": "display_data",
          "data": {
            "text/plain": [
              "<Figure size 432x288 with 1 Axes>"
            ],
            "image/png": "[encoded data removed]"
          },
          "metadata": {
            "needs_background": "light"
          }
        }
      ]
    },
    {
      "cell_type": "code",
      "source": [
        "pred=model.predict(X_test[:5])\n",
        "print('pred values are :',pred)\n",
        "print('real values are :',y_test[:5])"
      ],
      "metadata": {
        "colab": {
          "base_uri": "https://localhost:8080/"
        },
        "outputId": "7b974273-389e-45cc-e6f3-12d125161326",
        "id": "I7NPn2w4AFCT"
      },
      "execution_count": 392,
      "outputs": [
        {
          "output_type": "stream",
          "name": "stdout",
          "text": [
            "pred values are : [[18.222292 ]\n",
            " [58.525467 ]\n",
            " [25.40638  ]\n",
            " [ 5.6807146]\n",
            " [68.406944 ]]\n",
            "real values are : 1620     18.119670\n",
            "21317    58.645833\n",
            "7044     25.416667\n",
            "15471     5.104167\n",
            "21599    68.437500\n",
            "Name: Processor_pct_Processor_time, dtype: float64\n"
          ]
        }
      ]
    },
    {
      "cell_type": "code",
      "source": [
        "pred=model.predict(X_test)"
      ],
      "metadata": {
        "id": "Moq8V1zrAFCU"
      },
      "execution_count": 393,
      "outputs": []
    },
    {
      "cell_type": "code",
      "source": [
        "MSE,MAE=model.evaluate(X_test,y_test)\n",
        "print('MSE:',MSE)\n",
        "print('MAE :',MAE)"
      ],
      "metadata": {
        "colab": {
          "base_uri": "https://localhost:8080/"
        },
        "outputId": "6d39c341-c903-491a-9283-1fc5f2b44b16",
        "id": "tNupRBRXAFCU"
      },
      "execution_count": 394,
      "outputs": [
        {
          "output_type": "stream",
          "name": "stdout",
          "text": [
            "210/210 [==============================] - 0s 1ms/step - loss: 0.8660 - mae: 0.2764\n",
            "MSE: 0.8660167455673218\n",
            "MAE : 0.27641645073890686\n"
          ]
        }
      ]
    },
    {
      "cell_type": "code",
      "source": [
        "from sklearn.metrics import r2_score\n",
        "r2_score(y_test, pred)"
      ],
      "metadata": {
        "colab": {
          "base_uri": "https://localhost:8080/"
        },
        "outputId": "e04e4728-4d28-4dae-ff10-3e3bb49dc07e",
        "id": "xXq2jpySAFCV"
      },
      "execution_count": 395,
      "outputs": [
        {
          "output_type": "execute_result",
          "data": {
            "text/plain": [
              "0.9978344214066517"
            ]
          },
          "metadata": {},
          "execution_count": 395
        }
      ]
    },
    {
      "cell_type": "code",
      "source": [
        "y=w7_cpu['Processor_pct_Processor_time']\n",
        "train=w7_cpu.iloc[:,:-1]"
      ],
      "metadata": {
        "id": "TmZealc6spKm"
      },
      "execution_count": 375,
      "outputs": []
    },
    {
      "cell_type": "code",
      "source": [
        "from sklearn.preprocessing import StandardScaler\n",
        "scaler=StandardScaler()\n",
        "train = scaler.fit_transform(train)"
      ],
      "metadata": {
        "id": "3tPvEnw1spKn"
      },
      "execution_count": 376,
      "outputs": []
    },
    {
      "cell_type": "markdown",
      "source": [
        "## w_7_net_data"
      ],
      "metadata": {
        "id": "FSHJfZFMj4yJ"
      }
    },
    {
      "cell_type": "code",
      "source": [
        "w7_net.head()"
      ],
      "metadata": {
        "colab": {
          "base_uri": "https://localhost:8080/",
          "height": 206
        },
        "id": "05VR0DS9j1Sw",
        "outputId": "0654ec3d-dc22-40a9-96fd-4db66ba78b0c"
      },
      "execution_count": 419,
      "outputs": [
        {
          "output_type": "execute_result",
          "data": {
            "text/plain": [
              "           ts Bytes_Received_sec Bytes_Sent_sec Packets_Received_sec  \\\n",
              "0  1554185566        189.9302187    66.24541874          1.000686084   \n",
              "1  1554185581        201.2512159     77.6607044           1.13324633   \n",
              "2  1554185596        69.26658124    43.99994573          0.399999507   \n",
              "3  1554185611        344.3296352    123.2653428           1.93331257   \n",
              "4  1554185626        195.2649965    71.93271807          1.066657543   \n",
              "\n",
              "   Packets_sec Packets_Sent_sec Bytes_Total_sec  \n",
              "0  1.601097734       0.60041165     256.1756374  \n",
              "1  1.866523367      0.733277037     278.9119203  \n",
              "2  0.733332429      0.333332922      113.266527  \n",
              "3  3.133299682      1.199987112      467.594978  \n",
              "4  1.733318508      0.666660964     267.1977146  "
            ],
            "text/html": [
              "\n",
              "  <div id=\"df-1e2910db-0b4e-4227-a684-0442364bbc54\">\n",
              "    <div class=\"colab-df-container\">\n",
              "      <div>\n",
              "<style scoped>\n",
              "    .dataframe tbody tr th:only-of-type {\n",
              "        vertical-align: middle;\n",
              "    }\n",
              "\n",
              "    .dataframe tbody tr th {\n",
              "        vertical-align: top;\n",
              "    }\n",
              "\n",
              "    .dataframe thead th {\n",
              "        text-align: right;\n",
              "    }\n",
              "</style>\n",
              "<table border=\"1\" class=\"dataframe\">\n",
              "  <thead>\n",
              "    <tr style=\"text-align: right;\">\n",
              "      <th></th>\n",
              "      <th>ts</th>\n",
              "      <th>Bytes_Received_sec</th>\n",
              "      <th>Bytes_Sent_sec</th>\n",
              "      <th>Packets_Received_sec</th>\n",
              "      <th>Packets_sec</th>\n",
              "      <th>Packets_Sent_sec</th>\n",
              "      <th>Bytes_Total_sec</th>\n",
              "    </tr>\n",
              "  </thead>\n",
              "  <tbody>\n",
              "    <tr>\n",
              "      <th>0</th>\n",
              "      <td>1554185566</td>\n",
              "      <td>189.9302187</td>\n",
              "      <td>66.24541874</td>\n",
              "      <td>1.000686084</td>\n",
              "      <td>1.601097734</td>\n",
              "      <td>0.60041165</td>\n",
              "      <td>256.1756374</td>\n",
              "    </tr>\n",
              "    <tr>\n",
              "      <th>1</th>\n",
              "      <td>1554185581</td>\n",
              "      <td>201.2512159</td>\n",
              "      <td>77.6607044</td>\n",
              "      <td>1.13324633</td>\n",
              "      <td>1.866523367</td>\n",
              "      <td>0.733277037</td>\n",
              "      <td>278.9119203</td>\n",
              "    </tr>\n",
              "    <tr>\n",
              "      <th>2</th>\n",
              "      <td>1554185596</td>\n",
              "      <td>69.26658124</td>\n",
              "      <td>43.99994573</td>\n",
              "      <td>0.399999507</td>\n",
              "      <td>0.733332429</td>\n",
              "      <td>0.333332922</td>\n",
              "      <td>113.266527</td>\n",
              "    </tr>\n",
              "    <tr>\n",
              "      <th>3</th>\n",
              "      <td>1554185611</td>\n",
              "      <td>344.3296352</td>\n",
              "      <td>123.2653428</td>\n",
              "      <td>1.93331257</td>\n",
              "      <td>3.133299682</td>\n",
              "      <td>1.199987112</td>\n",
              "      <td>467.594978</td>\n",
              "    </tr>\n",
              "    <tr>\n",
              "      <th>4</th>\n",
              "      <td>1554185626</td>\n",
              "      <td>195.2649965</td>\n",
              "      <td>71.93271807</td>\n",
              "      <td>1.066657543</td>\n",
              "      <td>1.733318508</td>\n",
              "      <td>0.666660964</td>\n",
              "      <td>267.1977146</td>\n",
              "    </tr>\n",
              "  </tbody>\n",
              "</table>\n",
              "</div>\n",
              "      <button class=\"colab-df-convert\" onclick=\"convertToInteractive('df-1e2910db-0b4e-4227-a684-0442364bbc54')\"\n",
              "              title=\"Convert this dataframe to an interactive table.\"\n",
              "              style=\"display:none;\">\n",
              "        \n",
              "  <svg xmlns=\"http://www.w3.org/2000/svg\" height=\"24px\"viewBox=\"0 0 24 24\"\n",
              "       width=\"24px\">\n",
              "    <path d=\"M0 0h24v24H0V0z\" fill=\"none\"/>\n",
              "    <path d=\"M18.56 5.44l.94 2.06.94-2.06 2.06-.94-2.06-.94-.94-2.06-.94 2.06-2.06.94zm-11 1L8.5 8.5l.94-2.06 2.06-.94-2.06-.94L8.5 2.5l-.94 2.06-2.06.94zm10 10l.94 2.06.94-2.06 2.06-.94-2.06-.94-.94-2.06-.94 2.06-2.06.94z\"/><path d=\"M17.41 7.96l-1.37-1.37c-.4-.4-.92-.59-1.43-.59-.52 0-1.04.2-1.43.59L10.3 9.45l-7.72 7.72c-.78.78-.78 2.05 0 2.83L4 21.41c.39.39.9.59 1.41.59.51 0 1.02-.2 1.41-.59l7.78-7.78 2.81-2.81c.8-.78.8-2.07 0-2.86zM5.41 20L4 18.59l7.72-7.72 1.47 1.35L5.41 20z\"/>\n",
              "  </svg>\n",
              "      </button>\n",
              "      \n",
              "  <style>\n",
              "    .colab-df-container {\n",
              "      display:flex;\n",
              "      flex-wrap:wrap;\n",
              "      gap: 12px;\n",
              "    }\n",
              "\n",
              "    .colab-df-convert {\n",
              "      background-color: #E8F0FE;\n",
              "      border: none;\n",
              "      border-radius: 50%;\n",
              "      cursor: pointer;\n",
              "      display: none;\n",
              "      fill: #1967D2;\n",
              "      height: 32px;\n",
              "      padding: 0 0 0 0;\n",
              "      width: 32px;\n",
              "    }\n",
              "\n",
              "    .colab-df-convert:hover {\n",
              "      background-color: #E2EBFA;\n",
              "      box-shadow: 0px 1px 2px rgba(60, 64, 67, 0.3), 0px 1px 3px 1px rgba(60, 64, 67, 0.15);\n",
              "      fill: #174EA6;\n",
              "    }\n",
              "\n",
              "    [theme=dark] .colab-df-convert {\n",
              "      background-color: #3B4455;\n",
              "      fill: #D2E3FC;\n",
              "    }\n",
              "\n",
              "    [theme=dark] .colab-df-convert:hover {\n",
              "      background-color: #434B5C;\n",
              "      box-shadow: 0px 1px 3px 1px rgba(0, 0, 0, 0.15);\n",
              "      filter: drop-shadow(0px 1px 2px rgba(0, 0, 0, 0.3));\n",
              "      fill: #FFFFFF;\n",
              "    }\n",
              "  </style>\n",
              "\n",
              "      <script>\n",
              "        const buttonEl =\n",
              "          document.querySelector('#df-1e2910db-0b4e-4227-a684-0442364bbc54 button.colab-df-convert');\n",
              "        buttonEl.style.display =\n",
              "          google.colab.kernel.accessAllowed ? 'block' : 'none';\n",
              "\n",
              "        async function convertToInteractive(key) {\n",
              "          const element = document.querySelector('#df-1e2910db-0b4e-4227-a684-0442364bbc54');\n",
              "          const dataTable =\n",
              "            await google.colab.kernel.invokeFunction('convertToInteractive',\n",
              "                                                     [key], {});\n",
              "          if (!dataTable) return;\n",
              "\n",
              "          const docLinkHtml = 'Like what you see? Visit the ' +\n",
              "            '<a target=\"_blank\" href=https://colab.research.google.com/notebooks/data_table.ipynb>data table notebook</a>'\n",
              "            + ' to learn more about interactive tables.';\n",
              "          element.innerHTML = '';\n",
              "          dataTable['output_type'] = 'display_data';\n",
              "          await google.colab.output.renderOutput(dataTable, element);\n",
              "          const docLink = document.createElement('div');\n",
              "          docLink.innerHTML = docLinkHtml;\n",
              "          element.appendChild(docLink);\n",
              "        }\n",
              "      </script>\n",
              "    </div>\n",
              "  </div>\n",
              "  "
            ]
          },
          "metadata": {},
          "execution_count": 419
        }
      ]
    },
    {
      "cell_type": "code",
      "source": [
        "w7_net.info()"
      ],
      "metadata": {
        "colab": {
          "base_uri": "https://localhost:8080/"
        },
        "id": "Xg6OzRhqkSsL",
        "outputId": "ab7a3c8e-f82a-4cee-e3ed-6d8dd26d8243"
      },
      "execution_count": 420,
      "outputs": [
        {
          "output_type": "stream",
          "name": "stdout",
          "text": [
            "<class 'pandas.core.frame.DataFrame'>\n",
            "RangeIndex: 22387 entries, 0 to 22386\n",
            "Data columns (total 7 columns):\n",
            " #   Column                Non-Null Count  Dtype \n",
            "---  ------                --------------  ----- \n",
            " 0   ts                    22387 non-null  int64 \n",
            " 1   Bytes_Received_sec    22387 non-null  object\n",
            " 2   Bytes_Sent_sec        22387 non-null  object\n",
            " 3   Packets_Received_sec  22387 non-null  object\n",
            " 4   Packets_sec           22387 non-null  object\n",
            " 5   Packets_Sent_sec      22387 non-null  object\n",
            " 6   Bytes_Total_sec       22387 non-null  object\n",
            "dtypes: int64(1), object(6)\n",
            "memory usage: 1.2+ MB\n"
          ]
        }
      ]
    },
    {
      "cell_type": "code",
      "source": [
        "dict=pd.DataFrame(w7_net.dtypes,columns=['Data types'])\n",
        "dict['null']=w7_net.isnull().sum()\n",
        "dict['unique vals']=w7_net.nunique()\n",
        "dict['count']=w7_net.count()\n",
        "dict"
      ],
      "metadata": {
        "colab": {
          "base_uri": "https://localhost:8080/",
          "height": 269
        },
        "id": "T39fEQ7okVsF",
        "outputId": "e23fd96b-541b-4cf1-8735-53af4c636e6d"
      },
      "execution_count": 421,
      "outputs": [
        {
          "output_type": "execute_result",
          "data": {
            "text/plain": [
              "                     Data types  null  unique vals  count\n",
              "ts                        int64     0        22387  22387\n",
              "Bytes_Received_sec       object     0        21535  22387\n",
              "Bytes_Sent_sec           object     0        20894  22387\n",
              "Packets_Received_sec     object     0        21454  22387\n",
              "Packets_sec              object     0        21825  22387\n",
              "Packets_Sent_sec         object     0        20728  22387\n",
              "Bytes_Total_sec          object     0        21879  22387"
            ],
            "text/html": [
              "\n",
              "  <div id=\"df-aadbcd8c-6643-4e8a-9914-9de1c8645c2b\">\n",
              "    <div class=\"colab-df-container\">\n",
              "      <div>\n",
              "<style scoped>\n",
              "    .dataframe tbody tr th:only-of-type {\n",
              "        vertical-align: middle;\n",
              "    }\n",
              "\n",
              "    .dataframe tbody tr th {\n",
              "        vertical-align: top;\n",
              "    }\n",
              "\n",
              "    .dataframe thead th {\n",
              "        text-align: right;\n",
              "    }\n",
              "</style>\n",
              "<table border=\"1\" class=\"dataframe\">\n",
              "  <thead>\n",
              "    <tr style=\"text-align: right;\">\n",
              "      <th></th>\n",
              "      <th>Data types</th>\n",
              "      <th>null</th>\n",
              "      <th>unique vals</th>\n",
              "      <th>count</th>\n",
              "    </tr>\n",
              "  </thead>\n",
              "  <tbody>\n",
              "    <tr>\n",
              "      <th>ts</th>\n",
              "      <td>int64</td>\n",
              "      <td>0</td>\n",
              "      <td>22387</td>\n",
              "      <td>22387</td>\n",
              "    </tr>\n",
              "    <tr>\n",
              "      <th>Bytes_Received_sec</th>\n",
              "      <td>object</td>\n",
              "      <td>0</td>\n",
              "      <td>21535</td>\n",
              "      <td>22387</td>\n",
              "    </tr>\n",
              "    <tr>\n",
              "      <th>Bytes_Sent_sec</th>\n",
              "      <td>object</td>\n",
              "      <td>0</td>\n",
              "      <td>20894</td>\n",
              "      <td>22387</td>\n",
              "    </tr>\n",
              "    <tr>\n",
              "      <th>Packets_Received_sec</th>\n",
              "      <td>object</td>\n",
              "      <td>0</td>\n",
              "      <td>21454</td>\n",
              "      <td>22387</td>\n",
              "    </tr>\n",
              "    <tr>\n",
              "      <th>Packets_sec</th>\n",
              "      <td>object</td>\n",
              "      <td>0</td>\n",
              "      <td>21825</td>\n",
              "      <td>22387</td>\n",
              "    </tr>\n",
              "    <tr>\n",
              "      <th>Packets_Sent_sec</th>\n",
              "      <td>object</td>\n",
              "      <td>0</td>\n",
              "      <td>20728</td>\n",
              "      <td>22387</td>\n",
              "    </tr>\n",
              "    <tr>\n",
              "      <th>Bytes_Total_sec</th>\n",
              "      <td>object</td>\n",
              "      <td>0</td>\n",
              "      <td>21879</td>\n",
              "      <td>22387</td>\n",
              "    </tr>\n",
              "  </tbody>\n",
              "</table>\n",
              "</div>\n",
              "      <button class=\"colab-df-convert\" onclick=\"convertToInteractive('df-aadbcd8c-6643-4e8a-9914-9de1c8645c2b')\"\n",
              "              title=\"Convert this dataframe to an interactive table.\"\n",
              "              style=\"display:none;\">\n",
              "        \n",
              "  <svg xmlns=\"http://www.w3.org/2000/svg\" height=\"24px\"viewBox=\"0 0 24 24\"\n",
              "       width=\"24px\">\n",
              "    <path d=\"M0 0h24v24H0V0z\" fill=\"none\"/>\n",
              "    <path d=\"M18.56 5.44l.94 2.06.94-2.06 2.06-.94-2.06-.94-.94-2.06-.94 2.06-2.06.94zm-11 1L8.5 8.5l.94-2.06 2.06-.94-2.06-.94L8.5 2.5l-.94 2.06-2.06.94zm10 10l.94 2.06.94-2.06 2.06-.94-2.06-.94-.94-2.06-.94 2.06-2.06.94z\"/><path d=\"M17.41 7.96l-1.37-1.37c-.4-.4-.92-.59-1.43-.59-.52 0-1.04.2-1.43.59L10.3 9.45l-7.72 7.72c-.78.78-.78 2.05 0 2.83L4 21.41c.39.39.9.59 1.41.59.51 0 1.02-.2 1.41-.59l7.78-7.78 2.81-2.81c.8-.78.8-2.07 0-2.86zM5.41 20L4 18.59l7.72-7.72 1.47 1.35L5.41 20z\"/>\n",
              "  </svg>\n",
              "      </button>\n",
              "      \n",
              "  <style>\n",
              "    .colab-df-container {\n",
              "      display:flex;\n",
              "      flex-wrap:wrap;\n",
              "      gap: 12px;\n",
              "    }\n",
              "\n",
              "    .colab-df-convert {\n",
              "      background-color: #E8F0FE;\n",
              "      border: none;\n",
              "      border-radius: 50%;\n",
              "      cursor: pointer;\n",
              "      display: none;\n",
              "      fill: #1967D2;\n",
              "      height: 32px;\n",
              "      padding: 0 0 0 0;\n",
              "      width: 32px;\n",
              "    }\n",
              "\n",
              "    .colab-df-convert:hover {\n",
              "      background-color: #E2EBFA;\n",
              "      box-shadow: 0px 1px 2px rgba(60, 64, 67, 0.3), 0px 1px 3px 1px rgba(60, 64, 67, 0.15);\n",
              "      fill: #174EA6;\n",
              "    }\n",
              "\n",
              "    [theme=dark] .colab-df-convert {\n",
              "      background-color: #3B4455;\n",
              "      fill: #D2E3FC;\n",
              "    }\n",
              "\n",
              "    [theme=dark] .colab-df-convert:hover {\n",
              "      background-color: #434B5C;\n",
              "      box-shadow: 0px 1px 3px 1px rgba(0, 0, 0, 0.15);\n",
              "      filter: drop-shadow(0px 1px 2px rgba(0, 0, 0, 0.3));\n",
              "      fill: #FFFFFF;\n",
              "    }\n",
              "  </style>\n",
              "\n",
              "      <script>\n",
              "        const buttonEl =\n",
              "          document.querySelector('#df-aadbcd8c-6643-4e8a-9914-9de1c8645c2b button.colab-df-convert');\n",
              "        buttonEl.style.display =\n",
              "          google.colab.kernel.accessAllowed ? 'block' : 'none';\n",
              "\n",
              "        async function convertToInteractive(key) {\n",
              "          const element = document.querySelector('#df-aadbcd8c-6643-4e8a-9914-9de1c8645c2b');\n",
              "          const dataTable =\n",
              "            await google.colab.kernel.invokeFunction('convertToInteractive',\n",
              "                                                     [key], {});\n",
              "          if (!dataTable) return;\n",
              "\n",
              "          const docLinkHtml = 'Like what you see? Visit the ' +\n",
              "            '<a target=\"_blank\" href=https://colab.research.google.com/notebooks/data_table.ipynb>data table notebook</a>'\n",
              "            + ' to learn more about interactive tables.';\n",
              "          element.innerHTML = '';\n",
              "          dataTable['output_type'] = 'display_data';\n",
              "          await google.colab.output.renderOutput(dataTable, element);\n",
              "          const docLink = document.createElement('div');\n",
              "          docLink.innerHTML = docLinkHtml;\n",
              "          element.appendChild(docLink);\n",
              "        }\n",
              "      </script>\n",
              "    </div>\n",
              "  </div>\n",
              "  "
            ]
          },
          "metadata": {},
          "execution_count": 421
        }
      ]
    },
    {
      "cell_type": "code",
      "source": [
        "#changing data types from stirng to float\n",
        "w7_net['Bytes_Received_sec'] =pd.to_numeric(w7_net['Bytes_Received_sec'],errors='coerce')\n",
        "w7_net['Bytes_Sent_sec'] =pd.to_numeric(w7_net['Bytes_Sent_sec'],errors='coerce')\n",
        "w7_net['Packets_Received_sec'] =pd.to_numeric(w7_net['Packets_Received_sec'],errors='coerce')\n",
        "w7_net['Packets_sec'] =pd.to_numeric(w7_net['Packets_sec'],errors='coerce')\n",
        "w7_net['Packets_Sent_sec'] =pd.to_numeric(w7_net['Packets_Sent_sec'],errors='coerce')\n",
        "w7_net['Bytes_Total_sec'] =pd.to_numeric(w7_net['Bytes_Total_sec'],errors='coerce')"
      ],
      "metadata": {
        "id": "UmKvMdrVkh3m"
      },
      "execution_count": 422,
      "outputs": []
    },
    {
      "cell_type": "code",
      "source": [
        "w7_net.info()"
      ],
      "metadata": {
        "colab": {
          "base_uri": "https://localhost:8080/"
        },
        "id": "Pjxhytvnkxf0",
        "outputId": "5b2b1001-4208-467e-c77f-091b5851b0e0"
      },
      "execution_count": 423,
      "outputs": [
        {
          "output_type": "stream",
          "name": "stdout",
          "text": [
            "<class 'pandas.core.frame.DataFrame'>\n",
            "RangeIndex: 22387 entries, 0 to 22386\n",
            "Data columns (total 7 columns):\n",
            " #   Column                Non-Null Count  Dtype  \n",
            "---  ------                --------------  -----  \n",
            " 0   ts                    22387 non-null  int64  \n",
            " 1   Bytes_Received_sec    22381 non-null  float64\n",
            " 2   Bytes_Sent_sec        22381 non-null  float64\n",
            " 3   Packets_Received_sec  22381 non-null  float64\n",
            " 4   Packets_sec           22381 non-null  float64\n",
            " 5   Packets_Sent_sec      22381 non-null  float64\n",
            " 6   Bytes_Total_sec       22381 non-null  float64\n",
            "dtypes: float64(6), int64(1)\n",
            "memory usage: 1.2 MB\n"
          ]
        }
      ]
    },
    {
      "cell_type": "code",
      "source": [
        "y=w7_net['Bytes_Total_sec']\n",
        "train=w7_net.iloc[:,:-1]"
      ],
      "metadata": {
        "id": "Xl_4vJY7s8iH"
      },
      "execution_count": 434,
      "outputs": []
    },
    {
      "cell_type": "code",
      "source": [
        "w7_net.dropna(axis=0,inplace=True)"
      ],
      "metadata": {
        "id": "2B8uHtZnDFXw"
      },
      "execution_count": 435,
      "outputs": []
    },
    {
      "cell_type": "code",
      "source": [
        "y=w7_net['Bytes_Total_sec']\n",
        "train=w7_net.iloc[:,:-1]"
      ],
      "metadata": {
        "id": "jm9tqJPxDFX5"
      },
      "execution_count": 436,
      "outputs": []
    },
    {
      "cell_type": "code",
      "source": [
        "X=w7_net.iloc[:,:-1]\n",
        "y=w7_net['Bytes_Total_sec']"
      ],
      "metadata": {
        "id": "fbvia4dPDFX5"
      },
      "execution_count": 437,
      "outputs": []
    },
    {
      "cell_type": "code",
      "source": [
        "from sklearn.model_selection import train_test_split\n",
        "X_train,X_test,y_train,y_test=train_test_split(X,y,test_size=0.3)"
      ],
      "metadata": {
        "id": "ZHvV7pbwDFX5"
      },
      "execution_count": 438,
      "outputs": []
    },
    {
      "cell_type": "code",
      "source": [
        "scaler=StandardScaler()\n",
        "X_train = scaler.fit_transform(X_train)\n",
        "X_test = scaler.transform(X_test)"
      ],
      "metadata": {
        "id": "4k_WQGfsDFX5"
      },
      "execution_count": 439,
      "outputs": []
    },
    {
      "cell_type": "code",
      "source": [
        "X_train.shape"
      ],
      "metadata": {
        "colab": {
          "base_uri": "https://localhost:8080/"
        },
        "outputId": "bad1e8c3-c22c-47f2-f5db-0cdd5483b8d2",
        "id": "g7kBWuqQDFX6"
      },
      "execution_count": 440,
      "outputs": [
        {
          "output_type": "execute_result",
          "data": {
            "text/plain": [
              "(15666, 6)"
            ]
          },
          "metadata": {},
          "execution_count": 440
        }
      ]
    },
    {
      "cell_type": "code",
      "source": [
        "model=keras.Sequential([keras.layers.Dense(100,input_dim=6,activation='relu'),\n",
        "                         keras.layers.Dense(80,activation='relu'),\n",
        "                         keras.layers.Dense(60,activation='relu'),\n",
        "                         keras.layers.Dense(40,activation='relu'),\n",
        "                         keras.layers.Dense(1,activation='linear')\n",
        "])\n",
        "model.compile(optimizer='adam',\n",
        "              loss='mean_squared_error',\n",
        "              metrics=['mae'])"
      ],
      "metadata": {
        "id": "8UncAQPXDFX6"
      },
      "execution_count": 441,
      "outputs": []
    },
    {
      "cell_type": "code",
      "source": [
        "model.summary()"
      ],
      "metadata": {
        "colab": {
          "base_uri": "https://localhost:8080/"
        },
        "outputId": "7c93d717-bc2f-4b62-8c04-eac7999d0263",
        "id": "zVwKYmhcDFX6"
      },
      "execution_count": 442,
      "outputs": [
        {
          "output_type": "stream",
          "name": "stdout",
          "text": [
            "Model: \"sequential_17\"\n",
            "_________________________________________________________________\n",
            " Layer (type)                Output Shape              Param #   \n",
            "=================================================================\n",
            " dense_93 (Dense)            (None, 100)               700       \n",
            "                                                                 \n",
            " dense_94 (Dense)            (None, 80)                8080      \n",
            "                                                                 \n",
            " dense_95 (Dense)            (None, 60)                4860      \n",
            "                                                                 \n",
            " dense_96 (Dense)            (None, 40)                2440      \n",
            "                                                                 \n",
            " dense_97 (Dense)            (None, 1)                 41        \n",
            "                                                                 \n",
            "=================================================================\n",
            "Total params: 16,121\n",
            "Trainable params: 16,121\n",
            "Non-trainable params: 0\n",
            "_________________________________________________________________\n"
          ]
        }
      ]
    },
    {
      "cell_type": "code",
      "source": [
        "history=model.fit(X_train,y_train,epochs=100,validation_split=0.2)"
      ],
      "metadata": {
        "colab": {
          "base_uri": "https://localhost:8080/"
        },
        "outputId": "f31d2161-76a7-46f8-a821-9cec136610fd",
        "id": "r13CbseiDFX6"
      },
      "execution_count": 443,
      "outputs": [
        {
          "output_type": "stream",
          "name": "stdout",
          "text": [
            "Epoch 1/100\n",
            "392/392 [==============================] - 2s 3ms/step - loss: 1432913408.0000 - mae: 2887.4878 - val_loss: 141201584.0000 - val_mae: 2710.1162\n",
            "Epoch 2/100\n",
            "392/392 [==============================] - 1s 2ms/step - loss: 1115784320.0000 - mae: 3628.1362 - val_loss: 123265784.0000 - val_mae: 3623.6550\n",
            "Epoch 3/100\n",
            "392/392 [==============================] - 1s 2ms/step - loss: 791153344.0000 - mae: 3304.6335 - val_loss: 175730608.0000 - val_mae: 3217.3662\n",
            "Epoch 4/100\n",
            "392/392 [==============================] - 1s 2ms/step - loss: 623993472.0000 - mae: 2995.4900 - val_loss: 130382368.0000 - val_mae: 2296.1594\n",
            "Epoch 5/100\n",
            "392/392 [==============================] - 1s 2ms/step - loss: 551729408.0000 - mae: 2437.9719 - val_loss: 152621568.0000 - val_mae: 2283.9553\n",
            "Epoch 6/100\n",
            "392/392 [==============================] - 1s 2ms/step - loss: 446945344.0000 - mae: 2276.4070 - val_loss: 105807056.0000 - val_mae: 1899.8151\n",
            "Epoch 7/100\n",
            "392/392 [==============================] - 1s 2ms/step - loss: 318017856.0000 - mae: 1981.9938 - val_loss: 107135376.0000 - val_mae: 1815.4341\n",
            "Epoch 8/100\n",
            "392/392 [==============================] - 1s 2ms/step - loss: 218555968.0000 - mae: 1717.0509 - val_loss: 91399568.0000 - val_mae: 1734.9144\n",
            "Epoch 9/100\n",
            "392/392 [==============================] - 1s 2ms/step - loss: 148780816.0000 - mae: 1493.9071 - val_loss: 56036024.0000 - val_mae: 1330.4139\n",
            "Epoch 10/100\n",
            "392/392 [==============================] - 1s 2ms/step - loss: 64060656.0000 - mae: 1193.5632 - val_loss: 22220774.0000 - val_mae: 1100.8530\n",
            "Epoch 11/100\n",
            "392/392 [==============================] - 1s 2ms/step - loss: 42248712.0000 - mae: 1076.9707 - val_loss: 18029520.0000 - val_mae: 964.1268\n",
            "Epoch 12/100\n",
            "392/392 [==============================] - 1s 2ms/step - loss: 20359398.0000 - mae: 860.3845 - val_loss: 7195989.0000 - val_mae: 877.1554\n",
            "Epoch 13/100\n",
            "392/392 [==============================] - 1s 2ms/step - loss: 9336099.0000 - mae: 783.3801 - val_loss: 4961848.5000 - val_mae: 815.2245\n",
            "Epoch 14/100\n",
            "392/392 [==============================] - 1s 2ms/step - loss: 6288302.5000 - mae: 767.1326 - val_loss: 4106032.5000 - val_mae: 783.0262\n",
            "Epoch 15/100\n",
            "392/392 [==============================] - 1s 2ms/step - loss: 5348672.5000 - mae: 745.3026 - val_loss: 3721377.5000 - val_mae: 769.4519\n",
            "Epoch 16/100\n",
            "392/392 [==============================] - 1s 2ms/step - loss: 4114014.0000 - mae: 731.4883 - val_loss: 3786127.0000 - val_mae: 770.4056\n",
            "Epoch 17/100\n",
            "392/392 [==============================] - 1s 2ms/step - loss: 5814721.5000 - mae: 764.2825 - val_loss: 6714432.0000 - val_mae: 730.8595\n",
            "Epoch 18/100\n",
            "392/392 [==============================] - 1s 2ms/step - loss: 7924178.0000 - mae: 792.2655 - val_loss: 3434310.0000 - val_mae: 764.0135\n",
            "Epoch 19/100\n",
            "392/392 [==============================] - 1s 2ms/step - loss: 3970885.0000 - mae: 725.4307 - val_loss: 2620919.0000 - val_mae: 703.9291\n",
            "Epoch 20/100\n",
            "392/392 [==============================] - 1s 2ms/step - loss: 10345338.0000 - mae: 790.4658 - val_loss: 6334332.0000 - val_mae: 913.2367\n",
            "Epoch 21/100\n",
            "392/392 [==============================] - 1s 2ms/step - loss: 29644770.0000 - mae: 839.6095 - val_loss: 2866285.2500 - val_mae: 652.4101\n",
            "Epoch 22/100\n",
            "392/392 [==============================] - 1s 2ms/step - loss: 5381480.5000 - mae: 662.2623 - val_loss: 3479667.0000 - val_mae: 802.1944\n",
            "Epoch 23/100\n",
            "392/392 [==============================] - 1s 2ms/step - loss: 4014629.5000 - mae: 696.7328 - val_loss: 2255589.7500 - val_mae: 647.3855\n",
            "Epoch 24/100\n",
            "392/392 [==============================] - 1s 2ms/step - loss: 8543381.0000 - mae: 702.2025 - val_loss: 2760992.2500 - val_mae: 689.5098\n",
            "Epoch 25/100\n",
            "392/392 [==============================] - 1s 2ms/step - loss: 27117520.0000 - mae: 876.9995 - val_loss: 4168836.7500 - val_mae: 951.8751\n",
            "Epoch 26/100\n",
            "392/392 [==============================] - 1s 2ms/step - loss: 3081536.7500 - mae: 731.6238 - val_loss: 2848857.7500 - val_mae: 743.3862\n",
            "Epoch 27/100\n",
            "392/392 [==============================] - 1s 2ms/step - loss: 1928274.3750 - mae: 665.6586 - val_loss: 1967109.5000 - val_mae: 654.7994\n",
            "Epoch 28/100\n",
            "392/392 [==============================] - 1s 2ms/step - loss: 6378005.5000 - mae: 675.4824 - val_loss: 2087573.6250 - val_mae: 747.8901\n",
            "Epoch 29/100\n",
            "392/392 [==============================] - 1s 2ms/step - loss: 25087878.0000 - mae: 816.5306 - val_loss: 1949148.2500 - val_mae: 602.4399\n",
            "Epoch 30/100\n",
            "392/392 [==============================] - 1s 2ms/step - loss: 11155229.0000 - mae: 725.7308 - val_loss: 2667555.0000 - val_mae: 734.2298\n",
            "Epoch 31/100\n",
            "392/392 [==============================] - 1s 2ms/step - loss: 1878846.5000 - mae: 609.9910 - val_loss: 2160298.5000 - val_mae: 553.7755\n",
            "Epoch 32/100\n",
            "392/392 [==============================] - 1s 2ms/step - loss: 23896568.0000 - mae: 712.1087 - val_loss: 2716140.0000 - val_mae: 680.0739\n",
            "Epoch 33/100\n",
            "392/392 [==============================] - 1s 2ms/step - loss: 6631320.0000 - mae: 632.2081 - val_loss: 1700587.1250 - val_mae: 588.0508\n",
            "Epoch 34/100\n",
            "392/392 [==============================] - 1s 2ms/step - loss: 1107446.6250 - mae: 547.4866 - val_loss: 1439794.6250 - val_mae: 543.2861\n",
            "Epoch 35/100\n",
            "392/392 [==============================] - 1s 2ms/step - loss: 1972596.0000 - mae: 571.4854 - val_loss: 3061651.7500 - val_mae: 674.6705\n",
            "Epoch 36/100\n",
            "392/392 [==============================] - 1s 2ms/step - loss: 17040158.0000 - mae: 713.5547 - val_loss: 2495282.7500 - val_mae: 1031.7797\n",
            "Epoch 37/100\n",
            "392/392 [==============================] - 1s 2ms/step - loss: 1378590.6250 - mae: 565.1174 - val_loss: 1538636.6250 - val_mae: 558.0241\n",
            "Epoch 38/100\n",
            "392/392 [==============================] - 1s 2ms/step - loss: 1717862.2500 - mae: 512.2753 - val_loss: 4379175.0000 - val_mae: 545.5480\n",
            "Epoch 39/100\n",
            "392/392 [==============================] - 1s 2ms/step - loss: 23871758.0000 - mae: 647.8761 - val_loss: 1066079.2500 - val_mae: 495.6553\n",
            "Epoch 40/100\n",
            "392/392 [==============================] - 1s 2ms/step - loss: 6298291.5000 - mae: 579.7551 - val_loss: 1257485.0000 - val_mae: 516.5306\n",
            "Epoch 41/100\n",
            "392/392 [==============================] - 1s 2ms/step - loss: 3390541.7500 - mae: 522.4003 - val_loss: 6493058.5000 - val_mae: 581.0135\n",
            "Epoch 42/100\n",
            "392/392 [==============================] - 1s 2ms/step - loss: 72387008.0000 - mae: 875.7111 - val_loss: 12458312.0000 - val_mae: 928.7053\n",
            "Epoch 43/100\n",
            "392/392 [==============================] - 1s 2ms/step - loss: 23628654.0000 - mae: 673.2951 - val_loss: 1177758.8750 - val_mae: 519.5458\n",
            "Epoch 44/100\n",
            "392/392 [==============================] - 1s 2ms/step - loss: 754820.3125 - mae: 491.7589 - val_loss: 1135085.0000 - val_mae: 504.1078\n",
            "Epoch 45/100\n",
            "392/392 [==============================] - 1s 2ms/step - loss: 709405.0000 - mae: 473.3480 - val_loss: 1189695.0000 - val_mae: 496.0069\n",
            "Epoch 46/100\n",
            "392/392 [==============================] - 1s 2ms/step - loss: 626213.7500 - mae: 459.6185 - val_loss: 1067537.8750 - val_mae: 471.3648\n",
            "Epoch 47/100\n",
            "392/392 [==============================] - 1s 2ms/step - loss: 2771898.0000 - mae: 490.6659 - val_loss: 1159157.7500 - val_mae: 466.8431\n",
            "Epoch 48/100\n",
            "392/392 [==============================] - 1s 2ms/step - loss: 1433111.2500 - mae: 458.1760 - val_loss: 1778098.1250 - val_mae: 568.4044\n",
            "Epoch 49/100\n",
            "392/392 [==============================] - 1s 2ms/step - loss: 2465688.0000 - mae: 510.5838 - val_loss: 4296230.5000 - val_mae: 543.7613\n",
            "Epoch 50/100\n",
            "392/392 [==============================] - 1s 2ms/step - loss: 19623968.0000 - mae: 786.5978 - val_loss: 859651.7500 - val_mae: 478.4004\n",
            "Epoch 51/100\n",
            "392/392 [==============================] - 1s 2ms/step - loss: 6325061.5000 - mae: 543.0248 - val_loss: 1077397.5000 - val_mae: 438.7128\n",
            "Epoch 52/100\n",
            "392/392 [==============================] - 1s 2ms/step - loss: 566951.1250 - mae: 386.0768 - val_loss: 678099.4375 - val_mae: 381.0092\n",
            "Epoch 53/100\n",
            "392/392 [==============================] - 1s 2ms/step - loss: 1478428.3750 - mae: 387.0877 - val_loss: 3861220.0000 - val_mae: 449.2088\n",
            "Epoch 54/100\n",
            "392/392 [==============================] - 1s 2ms/step - loss: 44426744.0000 - mae: 725.4055 - val_loss: 1796999.6250 - val_mae: 574.7496\n",
            "Epoch 55/100\n",
            "392/392 [==============================] - 1s 2ms/step - loss: 1624507.3750 - mae: 410.5198 - val_loss: 931679.5000 - val_mae: 395.1777\n",
            "Epoch 56/100\n",
            "392/392 [==============================] - 1s 2ms/step - loss: 998425.6875 - mae: 360.9978 - val_loss: 699929.5000 - val_mae: 345.6428\n",
            "Epoch 57/100\n",
            "392/392 [==============================] - 1s 2ms/step - loss: 347779.2188 - mae: 312.6318 - val_loss: 625500.2500 - val_mae: 318.7961\n",
            "Epoch 58/100\n",
            "392/392 [==============================] - 1s 2ms/step - loss: 2641845.0000 - mae: 386.6581 - val_loss: 1840721.5000 - val_mae: 415.0997\n",
            "Epoch 59/100\n",
            "392/392 [==============================] - 1s 2ms/step - loss: 7294774.0000 - mae: 446.9072 - val_loss: 28340542.0000 - val_mae: 831.8768\n",
            "Epoch 60/100\n",
            "392/392 [==============================] - 1s 2ms/step - loss: 95954584.0000 - mae: 743.3786 - val_loss: 790906.3125 - val_mae: 361.0785\n",
            "Epoch 61/100\n",
            "392/392 [==============================] - 1s 2ms/step - loss: 568332.0000 - mae: 321.5677 - val_loss: 568528.9375 - val_mae: 309.0740\n",
            "Epoch 62/100\n",
            "392/392 [==============================] - 1s 2ms/step - loss: 276315.4688 - mae: 282.3803 - val_loss: 558606.5625 - val_mae: 293.1431\n",
            "Epoch 63/100\n",
            "392/392 [==============================] - 1s 2ms/step - loss: 260200.1875 - mae: 264.4772 - val_loss: 547100.9375 - val_mae: 279.9831\n",
            "Epoch 64/100\n",
            "392/392 [==============================] - 1s 2ms/step - loss: 255565.4062 - mae: 251.3511 - val_loss: 528403.7500 - val_mae: 263.9678\n",
            "Epoch 65/100\n",
            "392/392 [==============================] - 1s 2ms/step - loss: 269984.8750 - mae: 240.3124 - val_loss: 493293.0625 - val_mae: 255.6133\n",
            "Epoch 66/100\n",
            "392/392 [==============================] - 1s 2ms/step - loss: 1281794.1250 - mae: 280.4963 - val_loss: 1483887.6250 - val_mae: 371.6880\n",
            "Epoch 67/100\n",
            "392/392 [==============================] - 1s 2ms/step - loss: 5265363.0000 - mae: 376.6366 - val_loss: 820304.5625 - val_mae: 274.1753\n",
            "Epoch 68/100\n",
            "392/392 [==============================] - 1s 2ms/step - loss: 1920983.2500 - mae: 271.3996 - val_loss: 3037762.0000 - val_mae: 433.9308\n",
            "Epoch 69/100\n",
            "392/392 [==============================] - 1s 2ms/step - loss: 10081212.0000 - mae: 347.1007 - val_loss: 10159037.0000 - val_mae: 348.6943\n",
            "Epoch 70/100\n",
            "392/392 [==============================] - 1s 2ms/step - loss: 40376516.0000 - mae: 590.7911 - val_loss: 8067285.0000 - val_mae: 820.5748\n",
            "Epoch 71/100\n",
            "392/392 [==============================] - 1s 2ms/step - loss: 39002872.0000 - mae: 577.9316 - val_loss: 2475939.0000 - val_mae: 516.3093\n",
            "Epoch 72/100\n",
            "392/392 [==============================] - 1s 2ms/step - loss: 7354045.0000 - mae: 411.6920 - val_loss: 603877.4375 - val_mae: 295.7204\n",
            "Epoch 73/100\n",
            "392/392 [==============================] - 1s 2ms/step - loss: 350921.9375 - mae: 216.4558 - val_loss: 400757.0000 - val_mae: 217.2041\n",
            "Epoch 74/100\n",
            "392/392 [==============================] - 1s 2ms/step - loss: 990774.4375 - mae: 218.3491 - val_loss: 366546.3438 - val_mae: 196.1689\n",
            "Epoch 75/100\n",
            "392/392 [==============================] - 1s 2ms/step - loss: 221044.2500 - mae: 177.7866 - val_loss: 622575.1875 - val_mae: 244.6285\n",
            "Epoch 76/100\n",
            "392/392 [==============================] - 1s 2ms/step - loss: 414236.8750 - mae: 194.3692 - val_loss: 720213.4375 - val_mae: 209.8808\n",
            "Epoch 77/100\n",
            "392/392 [==============================] - 1s 2ms/step - loss: 29814514.0000 - mae: 608.7454 - val_loss: 966637.3125 - val_mae: 303.6346\n",
            "Epoch 78/100\n",
            "392/392 [==============================] - 1s 3ms/step - loss: 9506626.0000 - mae: 387.6632 - val_loss: 6424637.5000 - val_mae: 466.3297\n",
            "Epoch 79/100\n",
            "392/392 [==============================] - 1s 2ms/step - loss: 4572533.5000 - mae: 275.6860 - val_loss: 608756.2500 - val_mae: 173.9326\n",
            "Epoch 80/100\n",
            "392/392 [==============================] - 1s 2ms/step - loss: 5699771.5000 - mae: 250.1572 - val_loss: 603264.5000 - val_mae: 211.4482\n",
            "Epoch 81/100\n",
            "392/392 [==============================] - 1s 2ms/step - loss: 7097593.5000 - mae: 283.1660 - val_loss: 666175.3750 - val_mae: 179.4135\n",
            "Epoch 82/100\n",
            "392/392 [==============================] - 1s 2ms/step - loss: 3795875.7500 - mae: 219.7492 - val_loss: 1001940.5625 - val_mae: 103.8313\n",
            "Epoch 83/100\n",
            "392/392 [==============================] - 1s 2ms/step - loss: 29700534.0000 - mae: 361.1910 - val_loss: 2057880.3750 - val_mae: 423.5278\n",
            "Epoch 84/100\n",
            "392/392 [==============================] - 1s 2ms/step - loss: 4025604.7500 - mae: 214.8054 - val_loss: 475172.7188 - val_mae: 103.6897\n",
            "Epoch 85/100\n",
            "392/392 [==============================] - 1s 2ms/step - loss: 656692.1875 - mae: 108.8519 - val_loss: 339028.7812 - val_mae: 133.3147\n",
            "Epoch 86/100\n",
            "392/392 [==============================] - 1s 2ms/step - loss: 650191.8125 - mae: 107.1998 - val_loss: 315910.9062 - val_mae: 102.6387\n",
            "Epoch 87/100\n",
            "392/392 [==============================] - 1s 2ms/step - loss: 2036827.8750 - mae: 159.1716 - val_loss: 2009481.8750 - val_mae: 284.0933\n",
            "Epoch 88/100\n",
            "392/392 [==============================] - 1s 2ms/step - loss: 16390550.0000 - mae: 402.8480 - val_loss: 7711980.5000 - val_mae: 236.9939\n",
            "Epoch 89/100\n",
            "392/392 [==============================] - 1s 2ms/step - loss: 78594824.0000 - mae: 553.1917 - val_loss: 2033789.6250 - val_mae: 198.9768\n",
            "Epoch 90/100\n",
            "392/392 [==============================] - 1s 2ms/step - loss: 3780837.7500 - mae: 302.2233 - val_loss: 714252.0625 - val_mae: 328.1629\n",
            "Epoch 91/100\n",
            "392/392 [==============================] - 1s 2ms/step - loss: 806797.4375 - mae: 225.8074 - val_loss: 1200125.8750 - val_mae: 325.4123\n",
            "Epoch 92/100\n",
            "392/392 [==============================] - 1s 2ms/step - loss: 2878171.2500 - mae: 230.5506 - val_loss: 2340073.5000 - val_mae: 424.8198\n",
            "Epoch 93/100\n",
            "392/392 [==============================] - 1s 2ms/step - loss: 6742555.5000 - mae: 295.5835 - val_loss: 312396.0625 - val_mae: 145.2593\n",
            "Epoch 94/100\n",
            "392/392 [==============================] - 1s 2ms/step - loss: 2805687.5000 - mae: 218.3039 - val_loss: 1332648.8750 - val_mae: 169.3928\n",
            "Epoch 95/100\n",
            "392/392 [==============================] - 1s 2ms/step - loss: 2336321.5000 - mae: 231.6370 - val_loss: 441700.6250 - val_mae: 169.6839\n",
            "Epoch 96/100\n",
            "392/392 [==============================] - 1s 2ms/step - loss: 233792.0781 - mae: 118.5204 - val_loss: 403658.4062 - val_mae: 127.4785\n",
            "Epoch 97/100\n",
            "392/392 [==============================] - 2s 6ms/step - loss: 19306994.0000 - mae: 272.0508 - val_loss: 567892.9375 - val_mae: 142.1206\n",
            "Epoch 98/100\n",
            "392/392 [==============================] - 1s 3ms/step - loss: 354812.5000 - mae: 106.7108 - val_loss: 251606.2188 - val_mae: 112.2714\n",
            "Epoch 99/100\n",
            "392/392 [==============================] - 1s 2ms/step - loss: 9532136.0000 - mae: 254.7153 - val_loss: 15190698.0000 - val_mae: 788.4158\n",
            "Epoch 100/100\n",
            "392/392 [==============================] - 1s 2ms/step - loss: 72347536.0000 - mae: 668.7770 - val_loss: 1399013.3750 - val_mae: 295.5053\n"
          ]
        }
      ]
    },
    {
      "cell_type": "code",
      "source": [
        "from matplotlib import pyplot as plt\n",
        "#plot the training and validation accuracy and loss at each epoch\n",
        "loss = history.history['loss']\n",
        "val_loss = history.history['val_loss']\n",
        "epochs = range(1, len(loss) + 1)\n",
        "plt.plot(epochs, loss, 'y', label='Training loss')\n",
        "plt.plot(epochs, val_loss, 'r', label='Validation loss')\n",
        "plt.title('Training and validation loss')\n",
        "plt.xlabel('Epochs')\n",
        "plt.ylabel('Loss')\n",
        "plt.legend()\n",
        "plt.show()"
      ],
      "metadata": {
        "colab": {
          "base_uri": "https://localhost:8080/",
          "height": 295
        },
        "outputId": "c519baf7-67fd-497c-decf-9bf9a2827143",
        "id": "VcXrS1lbDFX6"
      },
      "execution_count": 444,
      "outputs": [
        {
          "output_type": "display_data",
          "data": {
            "text/plain": [
              "<Figure size 432x288 with 1 Axes>"
            ],
            "image/png": "[encoded data removed]"
          },
          "metadata": {
            "needs_background": "light"
          }
        }
      ]
    },
    {
      "cell_type": "code",
      "source": [
        "acc = history.history['mae']\n",
        "val_acc = history.history['val_mae']\n",
        "plt.plot(epochs, acc, 'y', label='Training MAE')\n",
        "plt.plot(epochs, val_acc, 'r', label='Validation MAE')\n",
        "plt.title('Training and validation MAE')\n",
        "plt.xlabel('Epochs')\n",
        "plt.ylabel('Accuracy')\n",
        "plt.legend()\n",
        "plt.show()"
      ],
      "metadata": {
        "colab": {
          "base_uri": "https://localhost:8080/",
          "height": 295
        },
        "outputId": "e791bd56-3479-4ea7-8c3e-bd687f8da29d",
        "id": "gFp3JnUkDFX7"
      },
      "execution_count": 445,
      "outputs": [
        {
          "output_type": "display_data",
          "data": {
            "text/plain": [
              "<Figure size 432x288 with 1 Axes>"
            ],
            "image/png": "[encoded data removed]"
          },
          "metadata": {
            "needs_background": "light"
          }
        }
      ]
    },
    {
      "cell_type": "code",
      "source": [
        "pred=model.predict(X_test[:5])\n",
        "print('pred values are :',pred)\n",
        "print('real values are :',y_test[:5])"
      ],
      "metadata": {
        "colab": {
          "base_uri": "https://localhost:8080/"
        },
        "outputId": "79e4b91c-2216-4b5b-97a5-31f7015464db",
        "id": "Iy7ju4_6DFX7"
      },
      "execution_count": 447,
      "outputs": [
        {
          "output_type": "stream",
          "name": "stdout",
          "text": [
            "pred values are : [[ 452.45102]\n",
            " [4045.389  ]\n",
            " [3473.7847 ]\n",
            " [ 415.9191 ]\n",
            " [ 461.25082]]\n",
            "real values are : 8302      191.402110\n",
            "3229     4451.301158\n",
            "1322     3609.111192\n",
            "20506     156.594786\n",
            "4703       58.400565\n",
            "Name: Bytes_Total_sec, dtype: float64\n"
          ]
        }
      ]
    },
    {
      "cell_type": "code",
      "source": [
        "pred=model.predict(X_test)"
      ],
      "metadata": {
        "id": "VK0Vnrm5DFX7"
      },
      "execution_count": 448,
      "outputs": []
    },
    {
      "cell_type": "code",
      "source": [
        "MSE,MAE=model.evaluate(X_test,y_test)\n",
        "print('MSE:',MSE)\n",
        "print('MAE :',MAE)"
      ],
      "metadata": {
        "colab": {
          "base_uri": "https://localhost:8080/"
        },
        "outputId": "244a7e2a-6a0d-4359-9be4-ad617d0698cf",
        "id": "997xRoXvDFX7"
      },
      "execution_count": 449,
      "outputs": [
        {
          "output_type": "stream",
          "name": "stdout",
          "text": [
            "210/210 [==============================] - 0s 1ms/step - loss: 4363690.5000 - mae: 324.9238\n",
            "MSE: 4363690.5\n",
            "MAE : 324.923828125\n"
          ]
        }
      ]
    },
    {
      "cell_type": "code",
      "source": [
        "from sklearn.metrics import r2_score\n",
        "r2_score(y_test, pred)"
      ],
      "metadata": {
        "colab": {
          "base_uri": "https://localhost:8080/"
        },
        "outputId": "1c2b4604-7d83-49d7-ce90-a05d08644a77",
        "id": "8AC6DCjPDFX7"
      },
      "execution_count": 450,
      "outputs": [
        {
          "output_type": "execute_result",
          "data": {
            "text/plain": [
              "0.9934435379094781"
            ]
          },
          "metadata": {},
          "execution_count": 450
        }
      ]
    },
    {
      "cell_type": "code",
      "source": [
        "#linear regression\n",
        "from sklearn import linear_model\n",
        "from sklearn.metrics import mean_squared_error, mean_absolute_error\n",
        "from sklearn.metrics import r2_score"
      ],
      "metadata": {
        "id": "bzkPwxpoEfja"
      },
      "execution_count": 452,
      "outputs": []
    },
    {
      "cell_type": "code",
      "source": [
        ""
      ],
      "metadata": {
        "id": "5tpMRFqqE3h7"
      },
      "execution_count": null,
      "outputs": []
    }
  ]
}